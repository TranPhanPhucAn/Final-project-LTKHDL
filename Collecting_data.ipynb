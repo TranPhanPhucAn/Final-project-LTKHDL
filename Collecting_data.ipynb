{
 "cells": [
  {
   "cell_type": "markdown",
   "id": "2b6d5136-c816-4329-b6f0-3b23d630c121",
   "metadata": {},
   "source": [
    "<div style=\"text-align: center; background-color: #0A6EBD; font-family: 'Trebuchet MS', Arial, sans-serif; color: white; padding: 20px; font-size: 40px; font-weight: bold; border-radius: 0 0 0 0; box-shadow: 0px 6px 8px rgba(0, 0, 0, 0.2);\">\r\n",
    " Final Project Programming for Data Science\r\n",
    "</div>"
   ]
  },
  {
   "cell_type": "markdown",
   "id": "b7bebfbf-532c-48a6-a0f8-6309b8feeb02",
   "metadata": {},
   "source": [
    "<div style=\"text-align: center; background-color: #5A96E3; font-family: 'Trebuchet MS', Arial, sans-serif; color: white; padding: 20px; font-size: 40px; font-weight: bold; border-radius: 0 0 0 0; box-shadow: 0px 6px 8px rgba(0, 0, 0, 0.2);\">\n",
    "  Collecting Data</div>"
   ]
  },
  {
   "cell_type": "markdown",
   "id": "13095e33-8a40-4d43-9ef2-24c5668173db",
   "metadata": {},
   "source": [
    "## Group 6: \n",
    "\n",
    "| MSSV     | Họ tên         | Github                                        |Email                         | \n",
    "|----------|----------------|-----------------------------------------------|------------------------------|\n",
    "| 21120407 | Trần Phan Phúc Ân | [TranPhanPhucAn](https://github.com/TranPhanPhucAn) |21120407@student.hcmus.edu.vn | \n",
    "| 21120409 | Nguyễn Đức Duy Anh | [duyanh711](https://github.com/duyanh711) |21120409@student.hcmus.edu.vn |\n",
    "| 21120451 | Lê Bảo Hiếu | [baohieu1910](https://github.com/baohieu1910) |21120451@student.hcmus.edu.vn |    |"
   ]
  },
  {
   "cell_type": "markdown",
   "id": "3700102d-f7b3-47bc-abc6-57956613b57c",
   "metadata": {},
   "source": [
    "Github Link: <a href='https://github.com/TranPhanPhucAn/Final-project-LTKHDL'>Group6-Project-P4DS</a>"
   ]
  },
  {
   "cell_type": "markdown",
   "id": "cc91a14c-5d5a-4176-8236-9a13c0396769",
   "metadata": {},
   "source": [
    "## What subject is your data about? What is the source of your data? "
   ]
  },
  {
   "cell_type": "markdown",
   "id": "ee25a983-2fd8-4c43-8ee8-261061ea4c03",
   "metadata": {},
   "source": [
    "### Answer:\n",
    "- I have collected the dataset about all the development related courses (13 thousand courses) which are available on Udemy's website. Under the development category, there are courses from all IT & Software, Network & Security, Hardware , IT Certification and much more each having multiple courses under it's domain.\n",
    "- Soure of data: dataset is collected from Kaggle\n",
    "- Link of dataset: [Dataset](https://www.kaggle.com/datasets/jilkothari/it-software-courses-udemy-22k-courses)"
   ]
  },
  {
   "cell_type": "markdown",
   "id": "f35eb0c6-8bc2-4739-ae42-57c3ead3f47d",
   "metadata": {},
   "source": [
    "## Do authors of this data allow you to use like this?"
   ]
  },
  {
   "cell_type": "markdown",
   "id": "624593b1-e597-40eb-96fa-b27942bea4e6",
   "metadata": {},
   "source": [
    "### Answer:\n",
    "- **License CC0: Public Domain**\n",
    "- **The CC0 license** allows for the data to be used without any restrictions, essentially placing it in the public domain. Users are free to copy, modify, distribute and perform the work, even for commercial purposes, without asking for permission."
   ]
  },
  {
   "cell_type": "markdown",
   "id": "80140267-9680-4959-9ef8-78bb4e4a01c4",
   "metadata": {},
   "source": [
    "## How did authors collect data?"
   ]
  },
  {
   "cell_type": "markdown",
   "id": "113d6507-6337-4ee3-ab31-d43e84b03e4e",
   "metadata": {},
   "source": [
    "### Answer:\n",
    "- Authors scraped data from Udemy's website by usin"
   ]
  }
 ],
 "metadata": {
  "kernelspec": {
   "display_name": "Python 3 (ipykernel)",
   "language": "python",
   "name": "python3"
  },
  "language_info": {
   "codemirror_mode": {
    "name": "ipython",
    "version": 3
   },
   "file_extension": ".py",
   "mimetype": "text/x-python",
   "name": "python",
   "nbconvert_exporter": "python",
   "pygments_lexer": "ipython3",
   "version": "3.10.8"
  }
 },
 "nbformat": 4,
 "nbformat_minor": 5
}
