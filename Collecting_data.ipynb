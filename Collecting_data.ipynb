{
 "cells": [
  {
   "cell_type": "markdown",
   "id": "2b6d5136-c816-4329-b6f0-3b23d630c121",
   "metadata": {},
   "source": [
    "<div style=\"text-align: center; background-color: #0A6EBD; font-family: 'Trebuchet MS', Arial, sans-serif; color: white; padding: 20px; font-size: 40px; font-weight: bold; border-radius: 0 0 0 0; box-shadow: 0px 6px 8px rgba(0, 0, 0, 0.2);\">\r\n",
    " Final Project Programming for Data Science\r\n",
    "</div>"
   ]
  },
  {
   "cell_type": "markdown",
   "id": "b7bebfbf-532c-48a6-a0f8-6309b8feeb02",
   "metadata": {},
   "source": [
    "<div style=\"text-align: center; background-color: #5A96E3; font-family: 'Trebuchet MS', Arial, sans-serif; color: white; padding: 20px; font-size: 40px; font-weight: bold; border-radius: 0 0 0 0; box-shadow: 0px 6px 8px rgba(0, 0, 0, 0.2);\">\n",
    "  Collecting Data</div>"
   ]
  },
  {
   "cell_type": "markdown",
   "id": "13095e33-8a40-4d43-9ef2-24c5668173db",
   "metadata": {},
   "source": [
    "## Group 6: \n",
    "\n",
    "| MSSV     | Họ tên         | Github                                        |Email                         | \n",
    "|----------|----------------|-----------------------------------------------|------------------------------|\n",
    "| 21120407 | Trần Phan Phúc Ân | [TranPhanPhucAn](https://github.com/TranPhanPhucAn) |21120407@student.hcmus.edu.vn | \n",
    "| 21120409 | Nguyễn Đức Duy Anh | [duyanh711](https://github.com/duyanh711) |21120409@student.hcmus.edu.vn |\n",
    "| 21120451 | Lê Bảo Hiếu | [baohieu1910](https://github.com/baohieu1910) |21120451@student.hcmus.edu.vn |    |"
   ]
  },
  {
   "cell_type": "markdown",
   "id": "3700102d-f7b3-47bc-abc6-57956613b57c",
   "metadata": {},
   "source": [
    "Github Link: <a href='https://github.com/TranPhanPhucAn/Final-project-LTKHDL'>Group6-Project-P4DS</a>"
   ]
  },
  {
   "cell_type": "markdown",
   "id": "cc91a14c-5d5a-4176-8236-9a13c0396769",
   "metadata": {},
   "source": [
    "## What subject is your data about? What is the source of your data? "
   ]
  },
  {
   "cell_type": "markdown",
   "id": "ee25a983-2fd8-4c43-8ee8-261061ea4c03",
   "metadata": {},
   "source": [
    "### Answer:\n",
    "- This dataset contains detailed information on all available Udemy courses on Oct 10, 2022. This data was provided in the \"Course_info.csv\" file\n",
    "- The information of over 209k courses was collected by web scraping the Udemy website. Udemy holds 209,734 courses and 73,514 instructors teaching courses in 79 languages in 13 different categories.\n",
    "- Soure of data: dataset is collected from Kaggle.\n",
    "- Link of dataset: [Dataset](https://www.kaggle.com/datasets/hossaingh/udemy-courses?select=Course_info.csv)"
   ]
  },
  {
   "cell_type": "markdown",
   "id": "f35eb0c6-8bc2-4739-ae42-57c3ead3f47d",
   "metadata": {},
   "source": [
    "## Do authors of this data allow you to use like this?"
   ]
  },
  {
   "cell_type": "markdown",
   "id": "9924f382-ff3c-43e3-af54-52a98e666090",
   "metadata": {},
   "source": [
    "### Answer:\n",
    "- **License CC BY-NC-SA 4.0**\n",
    "- **License CC BY-NC-SA 4.0**:  \n",
    "   - Free to:\n",
    "        - Copy, modify, distribute and perform the work.\n",
    "        - Make derivative works based on it.\n",
    "        - Others can only use the work for non-commercial purposes. Commercial use requires explicit permission from the copyright holder.\n",
    "        - If others remix, transform, or build upon the work, they must distribute the resulting work under the same license as the original. This ensures that derivative works also allow for similar freedoms."
   ]
  },
  {
   "cell_type": "markdown",
   "id": "80140267-9680-4959-9ef8-78bb4e4a01c4",
   "metadata": {},
   "source": [
    "## How did authors collect data?"
   ]
  },
  {
   "cell_type": "markdown",
   "id": "113d6507-6337-4ee3-ab31-d43e84b03e4e",
   "metadata": {},
   "source": [
    "### Answer:\n",
    "- Authors scraped data from Udemy's website by using Python."
   ]
  }
 ],
 "metadata": {
  "kernelspec": {
   "display_name": "Python 3 (ipykernel)",
   "language": "python",
   "name": "python3"
  },
  "language_info": {
   "codemirror_mode": {
    "name": "ipython",
    "version": 3
   },
   "file_extension": ".py",
   "mimetype": "text/x-python",
   "name": "python",
   "nbconvert_exporter": "python",
   "pygments_lexer": "ipython3",
   "version": "3.9.15"
  }
 },
 "nbformat": 4,
 "nbformat_minor": 5
}
