{
  "cells": [
    {
      "cell_type": "markdown",
      "id": "418c85ad-3780-40e0-a82f-35c809901273",
      "metadata": {},
      "source": [
        "<div style=\"text-align: center; background-color: #0A6EBD; font-family: 'Trebuchet MS', Arial, sans-serif; color: white; padding: 20px; font-size: 40px; font-weight: bold; border-radius: 0 0 0 0; box-shadow: 0px 6px 8px rgba(0, 0, 0, 0.2);\">\n",
        " Final Project Programming for Data Science\n",
        "</div>"
      ]
    },
    {
      "cell_type": "markdown",
      "id": "e4052a18-f3cd-4330-b96b-b681a85ef9d5",
      "metadata": {},
      "source": [
        "<div style=\"text-align: center; background-color: #5A96E3; font-family: 'Trebuchet MS', Arial, sans-serif; color: white; padding: 20px; font-size: 40px; font-weight: bold; border-radius: 0 0 0 0; box-shadow: 0px 6px 8px rgba(0, 0, 0, 0.2);\">\n",
        "  Reflection + Reference</div>"
      ]
    },
    {
      "cell_type": "markdown",
      "id": "2d4a955f-75b9-4a4f-8a36-34436f8fbb57",
      "metadata": {},
      "source": [
        "## Reflection"
      ]
    },
    {
      "cell_type": "markdown",
      "id": "6f04120f-27c2-42e5-87c4-de13eae83d71",
      "metadata": {},
      "source": [
        "- Each member: What difficulties have you encountered?\n",
        "- Each member: What have you learned?\n",
        "- Your group: If you had more time, what would you do?"
      ]
    },
    {
      "cell_type": "markdown",
      "id": "bbd8516e-6803-49cb-9acd-715ce9eb3ea1",
      "metadata": {},
      "source": [
        "21120407 - Trần Phan Phúc Ân\n",
        "**Difficulties:** problems in data collection. Initially choose a data set that is missing too many samples and \n",
        "too few attributes, duplicate data and too much bias Then, having to change the data set takes a lot of time.\n",
        "\n",
        "**Learned:** Review and select a data set full of samples and attributes. ."
      ]
    },
    {
      "cell_type": "markdown",
      "id": "6b378a12-24d7-441b-96ea-b589718cc1b2",
      "metadata": {},
      "source": [
        "**If have more time:** \n",
        "- Analyze the data more closely.\n",
        "- Find more good questions."
      ]
    },
    {
      "cell_type": "markdown",
      "id": "f5e44df6-ecc2-4313-9906-d97bc06e1ade",
      "metadata": {},
      "source": [
        "#### 21120409 - Nguyễn Đức Duy Anh"
      ]
    },
    {
      "cell_type": "markdown",
      "id": "25c84b43-75ec-44b4-808b-0d186a694d20",
      "metadata": {},
      "source": [
        "**Difficulties:**\n",
        "- Dataset has not many columns.\n",
        "- Dataset has so many numeric columns, so make questions difficulty."
      ]
    },
    {
      "cell_type": "markdown",
      "id": "cc20d89c-88a5-4ff1-a7b0-4f2a930f8e28",
      "metadata": {},
      "source": [
        "**Learned:**\n",
        "- Knowledge about Udemy\n",
        "- Using pandas, matplotlib, numpy competently."
      ]
    },
    {
      "cell_type": "markdown",
      "id": "38f5344c-8116-4afa-ac7b-d64f17f336b6",
      "metadata": {},
      "source": [
        "**If have more time:**\n",
        "- Find more suitable Dataset.\n",
        "- Make more significant questions."
      ]
    },
    {
      "cell_type": "markdown",
      "id": "de1b9b6a",
      "metadata": {},
      "source": [
        "## Reference"
      ]
    },
    {
      "cell_type": "markdown",
      "id": "6128b8e2",
      "metadata": {},
      "source": [
        "- Project instruction file on moodle.\n",
        "- Practice labs"
      ]
    }
  ],
  "metadata": {
    "kernelspec": {
      "display_name": "Python 3 (ipykernel)",
      "language": "python",
      "name": "python3"
    },
    "language_info": {
      "codemirror_mode": {
        "name": "ipython",
        "version": 3
      },
      "file_extension": ".py",
      "mimetype": "text/x-python",
      "name": "python",
      "nbconvert_exporter": "python",
      "pygments_lexer": "ipython3",
      "version": "3.10.8"
    }
  },
  "nbformat": 4,
  "nbformat_minor": 5
}
