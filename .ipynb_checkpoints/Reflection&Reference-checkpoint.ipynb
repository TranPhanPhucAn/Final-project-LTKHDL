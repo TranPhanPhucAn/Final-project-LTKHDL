{
 "cells": [
  {
   "cell_type": "markdown",
   "id": "a1e89a24-d5c8-4392-8fbe-c365f1eecc04",
   "metadata": {},
   "source": [
    "### 21120451 - Lê Bảo Hiếu"
   ]
  },
  {
   "cell_type": "markdown",
   "id": "bbd8516e-6803-49cb-9acd-715ce9eb3ea1",
   "metadata": {},
   "source": [
    "<b>Difficulties:</b>\n",
    "- Having difficulty choosing a data set with fully attributes.\n",
    "- Having difficulty analyzing data to answer questions."
   ]
  },
  {
   "cell_type": "markdown",
   "id": "65a424f2-208e-4073-aaf9-c618cddac61e",
   "metadata": {},
   "source": [
    "<b>Learned:</b>\n",
    "- How to select a data set with complete attributes.\n",
    "- Know more about udemy.\n",
    "- Learn more about using pandas, matplotlib, numpy."
   ]
  },
  {
   "cell_type": "markdown",
   "id": "6b378a12-24d7-441b-96ea-b589718cc1b2",
   "metadata": {},
   "source": [
    "<b>If have more time:</b>\n",
    "- Find more meaningful questions.\n",
    "- Do more analysis to answer the question."
   ]
  }
 ],
 "metadata": {
  "kernelspec": {
   "display_name": "Python 3 (ipykernel)",
   "language": "python",
   "name": "python3"
  },
  "language_info": {
   "codemirror_mode": {
    "name": "ipython",
    "version": 3
   },
   "file_extension": ".py",
   "mimetype": "text/x-python",
   "name": "python",
   "nbconvert_exporter": "python",
   "pygments_lexer": "ipython3",
   "version": "3.9.15"
  }
 },
 "nbformat": 4,
 "nbformat_minor": 5
}
