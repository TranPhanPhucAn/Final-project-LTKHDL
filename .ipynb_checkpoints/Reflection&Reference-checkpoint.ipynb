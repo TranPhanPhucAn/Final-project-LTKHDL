{
 "cells": [
  {
   "cell_type": "markdown",
   "id": "f5e44df6-ecc2-4313-9906-d97bc06e1ade",
   "metadata": {},
   "source": [
    "#### 21120409 - Nguyễn Đức Duy Anh"
   ]
  },
  {
   "cell_type": "markdown",
   "id": "25c84b43-75ec-44b4-808b-0d186a694d20",
   "metadata": {},
   "source": [
    "**Difficulties:**\n",
    "- Dataset has not many columns.\n",
    "- Dataset has so many numeric columns, so make questions difficulty.s"
   ]
  },
  {
   "cell_type": "markdown",
   "id": "cc20d89c-88a5-4ff1-a7b0-4f2a930f8e28",
   "metadata": {},
   "source": [
    "**Learned:**\n",
    "- Knowledge about Udemy\n",
    "- Using pandas, matplotlib, numpy competently."
   ]
  },
  {
   "cell_type": "markdown",
   "id": "38f5344c-8116-4afa-ac7b-d64f17f336b6",
   "metadata": {},
   "source": [
    "**If have more time:**\n",
    "- Find more suitable Dataset.\n",
    "- Make more significant questions."
   ]
  }
 ],
 "metadata": {
  "kernelspec": {
   "display_name": "Python 3 (ipykernel)",
   "language": "python",
   "name": "python3"
  },
  "language_info": {
   "codemirror_mode": {
    "name": "ipython",
    "version": 3
   },
   "file_extension": ".py",
   "mimetype": "text/x-python",
   "name": "python",
   "nbconvert_exporter": "python",
   "pygments_lexer": "ipython3",
   "version": "3.10.8"
  }
 },
 "nbformat": 4,
 "nbformat_minor": 5
}
