{
 "cells": [
  {
   "cell_type": "markdown",
   "id": "418c85ad-3780-40e0-a82f-35c809901273",
   "metadata": {},
   "source": [
    "<div style=\"text-align: center; background-color: #0A6EBD; font-family: 'Trebuchet MS', Arial, sans-serif; color: white; padding: 20px; font-size: 40px; font-weight: bold; border-radius: 0 0 0 0; box-shadow: 0px 6px 8px rgba(0, 0, 0, 0.2);\">\n",
    " Final Project Programming for Data Science\n",
    "</div>"
   ]
  },
  {
   "cell_type": "markdown",
   "id": "e4052a18-f3cd-4330-b96b-b681a85ef9d5",
   "metadata": {},
   "source": [
    "<div style=\"text-align: center; background-color: #5A96E3; font-family: 'Trebuchet MS', Arial, sans-serif; color: white; padding: 20px; font-size: 40px; font-weight: bold; border-radius: 0 0 0 0; box-shadow: 0px 6px 8px rgba(0, 0, 0, 0.2);\">\n",
    "  Reflection + Reference</div>"
   ]
  },
  {
   "cell_type": "markdown",
   "id": "2d4a955f-75b9-4a4f-8a36-34436f8fbb57",
   "metadata": {},
   "source": [
    "## Reflection"
   ]
  },
  {
   "cell_type": "markdown",
   "id": "6f04120f-27c2-42e5-87c4-de13eae83d71",
   "metadata": {},
   "source": [
    "- Each member: What difficulties have you encountered?\n",
    "- Each member: What have you learned?\n",
    "- Your group: If you had more time, what would you do?"
   ]
  },
  {
   "cell_type": "markdown",
   "id": "a1e89a24-d5c8-4392-8fbe-c365f1eecc04",
   "metadata": {},
   "source": [
    "### 21120451 - Lê Bảo Hiếu"
   ]
  },
  {
   "cell_type": "markdown",
   "id": "bbd8516e-6803-49cb-9acd-715ce9eb3ea1",
   "metadata": {},
   "source": [
    "<b>Difficulties:</b>\n",
    "- Having difficulty collecting data, the initial data has quite few attributes.\n",
    "- Having difficulty analyzing data to answer questions.\n",
    "- Having difficulty accessing machine learning models."
   ]
  },
  {
   "cell_type": "markdown",
   "id": "65a424f2-208e-4073-aaf9-c618cddac61e",
   "metadata": {},
   "source": [
    "<b>Learned:</b>\n",
    "- Select a data set with complete attributes.\n",
    "- How to collect and process a data source on the internet.\n",
    "- Uses several machine learning models to help predict."
   ]
  },
  {
   "cell_type": "markdown",
   "id": "6b378a12-24d7-441b-96ea-b589718cc1b2",
   "metadata": {},
   "source": [
    "<b>If have more time:</b>\n",
    "- Find more meaningful questions.\n",
    "- Do more analysis to answer the question.\n",
    "- Learn more about machine learning models."
   ]
  },
  {
   "cell_type": "markdown",
   "id": "5906c3e1-dcba-47c9-8d9b-be229f0a8466",
   "metadata": {},
   "source": [
    "## Reference"
   ]
  },
  {
   "cell_type": "markdown",
   "id": "a971be23-49e3-4681-a59c-cdcf32aa3d19",
   "metadata": {},
   "source": [
    "- Project instruction file on moodle.\n",
    "- Practice labs"
   ]
  },
  {
   "cell_type": "code",
   "execution_count": null,
   "id": "608e8109-28f9-483f-9a94-3b7c85ee5d58",
   "metadata": {},
   "outputs": [],
   "source": []
  }
 ],
 "metadata": {
  "kernelspec": {
   "display_name": "Python 3 (ipykernel)",
   "language": "python",
   "name": "python3"
  },
  "language_info": {
   "codemirror_mode": {
    "name": "ipython",
    "version": 3
   },
   "file_extension": ".py",
   "mimetype": "text/x-python",
   "name": "python",
   "nbconvert_exporter": "python",
   "pygments_lexer": "ipython3",
   "version": "3.9.15"
  }
 },
 "nbformat": 4,
 "nbformat_minor": 5
}
