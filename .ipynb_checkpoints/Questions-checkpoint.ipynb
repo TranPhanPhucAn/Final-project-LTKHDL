{
 "cells": [
  {
   "cell_type": "code",
   "execution_count": null,
   "id": "bc2bccad-2019-4929-80ac-0b54efa0dfa2",
   "metadata": {},
   "outputs": [],
   "source": [
    "import pandas as pd\n",
    "import numpy as np\n",
    "import matplotlib.pyplot as plt\n",
    "import warnings\n",
    "warnings.simplefilter('ignore')"
   ]
  },
  {
   "cell_type": "code",
   "execution_count": null,
   "id": "a3a3b00a-d048-4b96-924b-ee9d3d0fa3b9",
   "metadata": {},
   "outputs": [],
   "source": [
    "udemy_df = pd.read_csv('Data/udemy.csv', parse_dates=['published_time', 'last_update_date'])\n",
    "udemy_df"
   ]
  },
  {
   "cell_type": "markdown",
   "id": "d53595f9-b364-40aa-a4c1-41f805c25e4e",
   "metadata": {},
   "source": [
    "## Question 5: What is the development trend of categories on udemy over the years?"
   ]
  },
  {
   "cell_type": "markdown",
   "id": "a290309b-3a66-4033-af38-a2cb8f6c32e2",
   "metadata": {},
   "source": [
    "### Benefits of finding the answer?"
   ]
  },
  {
   "cell_type": "markdown",
   "id": "ba5c895f-b3a6-48ed-8bec-011eabcab4f8",
   "metadata": {},
   "source": [
    "- It can help scholars on udemy to choose categories that match current trends.\n",
    "- Helps instructors on udemy choose to know the current trends.\n",
    "- Understand the development trend of udemy through the number of courses.\n",
    "- Capture the ups and downs of categories.\n",
    "- From the learning trends of categories on udemy, we can partly grasp the development trend of society.\n",
    "- Looking at the development trends over the years, we can understand the world economy at that time."
   ]
  },
  {
   "cell_type": "markdown",
   "id": "5825a9bd-e7f2-47ee-8359-dc83aaecb871",
   "metadata": {},
   "source": [
    "### Preprocessing"
   ]
  },
  {
   "cell_type": "markdown",
   "id": "b9598f32-62bb-4ef0-bfed-30e35284a868",
   "metadata": {},
   "source": [
    "- To facilitate data processing and data visualization for answering questions, I will take out the columns: `num_subscribers`, `category`, `published_time`."
   ]
  },
  {
   "cell_type": "code",
   "execution_count": null,
   "id": "6323d587-5b08-4ace-b1d0-0dc5fd8a1b44",
   "metadata": {},
   "outputs": [],
   "source": [
    "category_df = udemy_df[['num_subscribers', 'category', 'published_time']]\n",
    "category_df"
   ]
  },
  {
   "cell_type": "markdown",
   "id": "6194a1a0-5f0f-4948-95ab-df01828200aa",
   "metadata": {},
   "source": [
    "- I will convert the `published_time` column's data to year."
   ]
  },
  {
   "cell_type": "code",
   "execution_count": null,
   "id": "cbbc36fc-e359-4d41-bd6b-fce9846a04d8",
   "metadata": {},
   "outputs": [],
   "source": [
    "category_df['published_time'] = [item.year for item in category_df['published_time']]\n",
    "category_df"
   ]
  },
  {
   "cell_type": "markdown",
   "id": "b4449e75-9a76-4640-b6a7-f398d6728779",
   "metadata": {},
   "source": [
    "### Analyze data to answer the question?"
   ]
  },
  {
   "cell_type": "markdown",
   "id": "bb15a26d-4597-41d3-bef1-203ada18b649",
   "metadata": {},
   "source": [
    "#### Top 5 categories with the most courses in each year in the last 10 years"
   ]
  },
  {
   "cell_type": "markdown",
   "id": "9bd68639-dd46-4d61-879e-13a206ba46d1",
   "metadata": {},
   "source": [
    "- Find top 5 categories with the most courses in each year in the last 10 years"
   ]
  },
  {
   "cell_type": "code",
   "execution_count": null,
   "id": "b094bffb-6820-4955-9971-ebca9c376325",
   "metadata": {},
   "outputs": [],
   "source": [
    "category_df = category_df[category_df['published_time'] >= 2012]\n",
    "years = category_df['published_time'].unique()\n",
    "years.sort()\n",
    "top5_by_year = {}\n",
    "for year in years:\n",
    "    temp_df = category_df[category_df['published_time'] == year]\n",
    "    top5_by_year[year] = dict(temp_df['category'].value_counts().head(5))\n",
    "\n",
    "top5_by_year_df = pd.DataFrame(top5_by_year)\n",
    "top5_by_year_df"
   ]
  },
  {
   "cell_type": "markdown",
   "id": "a0f49c9e-fad1-42d6-8858-52ced6901601",
   "metadata": {},
   "source": [
    "- Visualize top 5 categories with the most courses in each year in the last 10 years"
   ]
  },
  {
   "cell_type": "code",
   "execution_count": null,
   "id": "519ea056-dd99-4f15-8163-1a583cec4a8a",
   "metadata": {},
   "outputs": [],
   "source": [
    "years = top5_by_year_df.columns\n",
    "indexes = top5_by_year_df.index\n",
    "\n",
    "plt.figure(figsize=(20, 10))\n",
    "\n",
    "for index in indexes:\n",
    "    plt.plot(years, top5_by_year_df.loc[index], label=index)\n",
    "\n",
    "plt.xlabel('Year')\n",
    "plt.xticks(years)\n",
    "plt.ylabel('Category count')\n",
    "plt.title('Category count over years')\n",
    "plt.legend()\n",
    "plt.grid(True)\n",
    "plt.show()"
   ]
  },
  {
   "cell_type": "markdown",
   "id": "4c216483-ef25-4053-a32d-a4101f96dd93",
   "metadata": {},
   "source": [
    "- The number of courses is constantly increasing over the years, peaking in 2021. Then starting to gradually decrease.\n",
    "- It can be seen that since 2014, the top 5 categories with the most courses have not changed until now.\n",
    "- The only course on `Development` and `Business` that has consistently in the top 5 for the last 10 years."
   ]
  },
  {
   "cell_type": "markdown",
   "id": "25f45991-f4e8-4c17-998f-6d2563adb661",
   "metadata": {},
   "source": [
    "#### Top 5 categories with the most subscribers in each year in the last 10 years"
   ]
  },
  {
   "cell_type": "markdown",
   "id": "348ec9fa-61b3-4a9f-83a4-aea90423046b",
   "metadata": {},
   "source": [
    "- Find top 5 categories with the most subscribers in each year in the last 10 years"
   ]
  },
  {
   "cell_type": "code",
   "execution_count": null,
   "id": "3235eafb-2fea-4520-80f2-5174bd7ea249",
   "metadata": {},
   "outputs": [],
   "source": [
    "category_df = category_df[category_df['published_time'] >= 2012]\n",
    "years = category_df['published_time'].unique()\n",
    "years.sort()\n",
    "top_5_num_sub_by_year = {}\n",
    "for year in years:\n",
    "    temp_df = category_df[category_df['published_time'] == year][['category', 'num_subscribers']]\n",
    "    count_subscribers = temp_df.groupby('category').sum()\n",
    "    count_subscribers = count_subscribers.sort_values('num_subscribers', ascending=False).head(5)\n",
    "    top_5_num_sub_by_year[year] = count_subscribers.to_dict()['num_subscribers']\n",
    "    \n",
    "top_5_num_sub_by_year_df = pd.DataFrame(top_5_num_sub_by_year)\n",
    "top_5_num_sub_by_year_df"
   ]
  },
  {
   "cell_type": "markdown",
   "id": "9abdc73c-aab4-4fc0-9e4b-e27d2ce41468",
   "metadata": {},
   "source": [
    "- Visualize top 5 categories with the most subscribers in each year in the last 10 years"
   ]
  },
  {
   "cell_type": "code",
   "execution_count": null,
   "id": "78ab7596-1e95-4b72-82b8-9dc5ee1a8f9d",
   "metadata": {},
   "outputs": [],
   "source": [
    "years = top_5_num_sub_by_year_df.columns\n",
    "indexes = top_5_num_sub_by_year_df.index\n",
    "\n",
    "plot_df = top_5_num_sub_by_year_df\n",
    "max_in_year = plot_df.agg(['max'])\n",
    "\n",
    "bar_width = 0.1\n",
    "index = np.arange(len(plot_df.columns))\n",
    "fig, ax = plt.subplots(figsize=(30,10))\n",
    "\n",
    "count = -3\n",
    "for i in indexes:\n",
    "    data = plot_df.loc[i]\n",
    "    ax.bar(index - bar_width / 2 + bar_width * count, data, bar_width, label=i)\n",
    "    count += 1\n",
    "\n",
    "ax.bar(index, max_in_year.loc['max'] + 1000000, bar_width * 9, alpha = 0.1, color='black')\n",
    "    \n",
    "ax.set_title('Total subscribers of category count over years')\n",
    "ax.set_xticks(index + bar_width / 2)\n",
    "ax.set_xticklabels(years)\n",
    "ax.legend()\n",
    "ax.grid(True)\n",
    "plt.show()"
   ]
  },
  {
   "cell_type": "markdown",
   "id": "4a00f19d-8556-4ecd-8ce0-855b9b35edab",
   "metadata": {},
   "source": [
    "- The number of subscribers for courses has continuously increased over the years, peaking in 2020. Then, it decreased very rapidly.\n",
    "- There are quite a few fluctuations in the top 5 categories with the most subscribers.\n",
    "- The only course on `Development` and `Business` that has consistently in the top 5 for the last 10 years."
   ]
  },
  {
   "cell_type": "markdown",
   "id": "1890d493-a598-4c11-bc53-23af7b3238c0",
   "metadata": {},
   "source": [
    "**Conclusion:**\n",
    "- Through the two charts showing the top 5 categories with the most courses and the top 5 categories with the most subscribers, it can be seen that categories `Development` and `Business` are always in the top 5 categories. No matter what the trend is, these two categories still occupy an important position.\n",
    "- From 2018 to 2020, it can be seen that this is the time when the categories have the most subscribers. Maybe because this is the time when the whole world has to fight the Covid-19, so people limit activities at school and an online learning place like Udemy is chosen by everyone to continue their studies.\n",
    "- Maybe `Development` doesn't have too many courses, specifically from 2020, the number of courses in `Development` is only in the top 3. But the number of subscribers in `Development` is always in the top 1 and the difference is very large compared to the remaining categories.\n",
    "- Besides, although `IT & Software` has only been developed since 2015, the number of subscribers for this category is top 2 only to `Development` until now.\n",
    "- It seems that the world is following the trend of technology, so `Development` and `IT & Software` courses are of great interest to everyone."
   ]
  },
  {
   "cell_type": "code",
   "execution_count": null,
   "id": "e8a5b09c-109f-465f-be1a-ba6cee911861",
   "metadata": {},
   "outputs": [],
   "source": [
    "a = udemy_df.groupby('category')['subcategory'].value_counts()\n",
    "for k, v in a.items():\n",
    "    print(k, v)"
   ]
  },
  {
   "cell_type": "code",
   "execution_count": null,
   "id": "239a7ade-b54e-4b0b-a839-cfb51b97c262",
   "metadata": {},
   "outputs": [],
   "source": [
    "# udemy_df[udemy_df['last_update_date'] == NaT]\n",
    "# udemy_df[np.isnat(udemy_df['last_update_date'])]\n",
    "a = udemy_df[['published_time', 'last_update_date', 'num_subscribers']]\n",
    "a['published_time'] = [item.year for item in a['published_time']]\n",
    "a['last_update_date'] = [item.year for item in a['last_update_date']]\n",
    "a.sort_values('num_subscribers')"
   ]
  }
 ],
 "metadata": {
  "kernelspec": {
   "display_name": "Python 3 (ipykernel)",
   "language": "python",
   "name": "python3"
  },
  "language_info": {
   "codemirror_mode": {
    "name": "ipython",
    "version": 3
   },
   "file_extension": ".py",
   "mimetype": "text/x-python",
   "name": "python",
   "nbconvert_exporter": "python",
   "pygments_lexer": "ipython3",
   "version": "3.9.15"
  }
 },
 "nbformat": 4,
 "nbformat_minor": 5
}
