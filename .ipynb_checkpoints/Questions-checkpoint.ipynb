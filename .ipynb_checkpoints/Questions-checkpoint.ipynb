{
 "cells": [
  {
<<<<<<< HEAD
   "cell_type": "markdown",
<<<<<<< HEAD
   "id": "34f8af1b-9bae-4609-9874-55b3a2e24531",
   "metadata": {},
   "source": [
    "<div style=\"text-align: center; background-color: #0A6EBD; font-family: 'Trebuchet MS', Arial, sans-serif; color: white; padding: 20px; font-size: 40px; font-weight: bold; border-radius: 0 0 0 0; box-shadow: 0px 6px 8px rgba(0, 0, 0, 0.2);\">\n",
    " Final Project Programming for Data Science\n",
    "</div>"
   ]
  },
  {
   "cell_type": "markdown",
   "id": "0d0a3af0-54d8-4e1a-b4b7-9000eeeef1b5",
   "metadata": {},
   "source": [
    "<div style=\"text-align: center; background-color: #5A96E3; font-family: 'Trebuchet MS', Arial, sans-serif; color: white; padding: 20px; font-size: 40px; font-weight: bold; border-radius: 0 0 0 0; box-shadow: 0px 6px 8px rgba(0, 0, 0, 0.2);\">\n",
    "  Asking + Preprocesssing +Analyzing data to answer each question</div>"
   ]
  },
  {
   "cell_type": "markdown",
   "id": "4f0ac71e-816a-4465-bb5e-2d08a7830ace",
=======
   "id": "bb4b0b37-bc69-445e-9bc2-54c6957f005d",
>>>>>>> DA_21120409
   "metadata": {},
   "source": [
    "## Import libraries"
   ]
  },
  {
   "cell_type": "code",
   "execution_count": null,
<<<<<<< HEAD
   "id": "6f7a2e11-9d34-4bc9-b482-2800b8ba1b2c",
=======
   "id": "e9353c01-c2d9-4e2a-b588-a2ec3e69af18",
>>>>>>> DA_21120409
   "metadata": {},
   "outputs": [],
   "source": [
    "import numpy as np\n",
    "import pandas as pd\n",
<<<<<<< HEAD
    "import matplotlib.pyplot as plt"
=======
    "import datetime\n",
    "import matplotlib.pyplot as plt\n",
    "import seaborn as sns\n",
    "import warnings\n",
    "warnings.simplefilter('ignore')"
>>>>>>> DA_21120409
   ]
  },
  {
   "cell_type": "markdown",
<<<<<<< HEAD
   "id": "7c6814fe-4364-44ef-bc43-ad8250aa102f",
   "metadata": {},
   "source": [
    "## Read data from csv file"
=======
   "id": "096c8fa3-cd80-4169-9430-5ad7f404ff5a",
   "metadata": {},
   "source": [
    "## Question 1: How importance does the price play?"
   ]
  },
  {
   "cell_type": "markdown",
   "id": "40ed8570-2769-43d0-95eb-170065015316",
   "metadata": {},
   "source": [
    "### Benefits of finding the answer: \n",
    "- Knowing the importance of price helps businesses optimize their pricing strategy. They can determine whether customers are highly sensitive to price changes and adjust their pricing models accordingly.\n",
    "- Understanding the role of price allows businesses to position themselves competitively in the market. If price is a significant factor for customers, a company may choose to compete on price or differentiate itself through other means.\n",
    "- Price elasticity insights help businesses set prices that maximize revenue. If customers are willing to pay higher prices for a product or service, companies can capture additional value.\n",
    "- Understanding price sensitivity allows businesses to implement loyalty programs, discounts, or promotions strategically.\n",
    "- Price elasticity insights contribute to more accurate demand forecasting. Businesses can predict how changes in price may affect demand, allowing for better inventory management and resource allocation.\n"
   ]
  },
  {
   "cell_type": "markdown",
   "id": "63212e49-2169-4459-83c1-d5497082ebd2",
   "metadata": {},
   "source": [
    "## Preprocessing"
   ]
  },
  {
   "cell_type": "markdown",
   "id": "29c784b8-c709-4831-8863-40c0ac7ff3f8",
   "metadata": {},
   "source": [
    "- To make the data more human-readable and interpretable, especially when you're creating visualizations or summaries where it's clearer to have 'Paid' and 'Free' instead of 'True' and 'False'. It simplifies the understanding of the data and is often done for better communication."
>>>>>>> DA_21120409
=======
   "cell_type": "code",
   "execution_count": null,
   "id": "bc2bccad-2019-4929-80ac-0b54efa0dfa2",
   "metadata": {},
   "outputs": [],
   "source": [
    "import pandas as pd\n",
    "import numpy as np\n",
    "import matplotlib.pyplot as plt\n",
    "import warnings\n",
    "warnings.simplefilter('ignore')"
>>>>>>> BH_21120451
   ]
  },
  {
   "cell_type": "code",
   "execution_count": null,
<<<<<<< HEAD
<<<<<<< HEAD
   "id": "c6cb5fb2-1b3c-47d0-98ee-0ef3f8171d63",
   "metadata": {},
   "outputs": [],
   "source": [
    "udemy_df = pd.read_csv(\"./Data/udemy.csv\", parse_dates = ['published_time', 'last_update_date'])\n",
    "udemy_df.head(10)"
=======
   "id": "53967a1e-59da-441b-bbd1-796b58d29a00",
   "metadata": {},
   "outputs": [],
   "source": [
    "df = udemy_df.copy()\n",
    "df['is_paid'] = df['is_paid'].apply(lambda x: 'Free' if x == False else 'Paid')\n",
    "df.head(5)"
>>>>>>> DA_21120409
=======
   "id": "a3a3b00a-d048-4b96-924b-ee9d3d0fa3b9",
   "metadata": {},
   "outputs": [],
   "source": [
    "udemy_df = pd.read_csv('Data/udemy.csv', parse_dates=['published_time', 'last_update_date'])\n",
    "udemy_df"
>>>>>>> BH_21120451
   ]
  },
  {
   "cell_type": "markdown",
<<<<<<< HEAD
<<<<<<< HEAD
   "id": "28feb1be-70f8-4891-8cdf-a314baf29635",
   "metadata": {},
   "source": [
    "## Question 3: How udemy develope?"
=======
   "id": "d53595f9-b364-40aa-a4c1-41f805c25e4e",
   "metadata": {},
   "source": [
    "## Question 5: What is the development trend of categories on udemy over the years?"
>>>>>>> BH_21120451
   ]
  },
  {
   "cell_type": "markdown",
<<<<<<< HEAD
   "id": "8570293a-44e9-4369-bc85-c5c9bcd85988",
=======
   "id": "a290309b-3a66-4033-af38-a2cb8f6c32e2",
>>>>>>> BH_21120451
   "metadata": {},
   "source": [
    "### Benefits of finding the answer?"
   ]
  },
  {
   "cell_type": "markdown",
<<<<<<< HEAD
   "id": "4dfa8411-4f7f-4896-9260-580df11b54fd",
   "metadata": {},
   "source": [
    "- Insights into Online Education Trends: Understanding how Udemy developed provides insights into the trends and dynamics of the online education industry. This knowledge can be valuable for individuals interested in the field of e-learning.\n",
    "- Entrepreneurial Inspiration: Udemy's success story can serve as inspiration for entrepreneurs looking to create platforms that make education more accessible. It showcases the potential for innovation in the education sector.\n",
    "- Learning and Teaching Opportunities: Individuals interested in learning new skills or sharing their expertise can benefit from Udemy's platform. By understanding its development, users can make informed decisions about participating in the Udemy community.\n",
    "- Impact on Education Accessibility: Udemy has played a role in making education accessible to a global audience. Understanding its development can contribute to discussions about the democratization of education and the role of technology in expanding learning opportunities."
=======
   "id": "ba5c895f-b3a6-48ed-8bec-011eabcab4f8",
   "metadata": {},
   "source": [
    "- It can help scholars on udemy to choose categories that match current trends.\n",
    "- Helps instructors on udemy choose to know the current trends.\n",
    "- Understand the development trend of udemy through the number of courses.\n",
    "- Capture the ups and downs of categories.\n",
    "- From the learning trends of categories on udemy, we can partly grasp the development trend of society.\n",
    "- Looking at the development trends over the years, we can understand the world economy at that time."
>>>>>>> BH_21120451
   ]
  },
  {
   "cell_type": "markdown",
<<<<<<< HEAD
   "id": "e0817742-b940-4157-8012-5109a87d699a",
=======
   "id": "5825a9bd-e7f2-47ee-8359-dc83aaecb871",
>>>>>>> BH_21120451
   "metadata": {},
   "source": [
    "### Preprocessing"
   ]
  },
  {
   "cell_type": "markdown",
<<<<<<< HEAD
   "id": "f4bd335a-f9b4-4a90-a9a6-28193b071e09",
   "metadata": {},
   "source": [
    "- To make it easier to evaluate udemy's growth, we evaluate it by year. We create a column year."
=======
   "id": "b9598f32-62bb-4ef0-bfed-30e35284a868",
   "metadata": {},
   "source": [
    "- To facilitate data processing and data visualization for answering questions, I will take out the columns: `num_subscribers`, `category`, `published_time`."
>>>>>>> BH_21120451
   ]
  },
  {
   "cell_type": "code",
   "execution_count": null,
<<<<<<< HEAD
   "id": "c5148cf8-b8fb-46dd-8b33-5c9f41948dc6",
   "metadata": {},
   "outputs": [],
   "source": [
    "udemy_df['year'] = udemy_df['published_time'].dt.year"
=======
   "id": "6323d587-5b08-4ace-b1d0-0dc5fd8a1b44",
   "metadata": {},
   "outputs": [],
   "source": [
    "category_df = udemy_df[['num_subscribers', 'category', 'published_time']]\n",
    "category_df"
>>>>>>> BH_21120451
   ]
  },
  {
   "cell_type": "markdown",
<<<<<<< HEAD
   "id": "7069de29-4d09-45f6-b08f-c96ca4aa3243",
=======
   "id": "bf091ef2-e7bc-45e4-9148-9b380bbaf4fd",
>>>>>>> DA_21120409
=======
   "id": "6194a1a0-5f0f-4948-95ab-df01828200aa",
   "metadata": {},
   "source": [
    "- I will convert the `published_time` column's data to year."
   ]
  },
  {
   "cell_type": "code",
   "execution_count": null,
   "id": "cbbc36fc-e359-4d41-bd6b-fce9846a04d8",
   "metadata": {},
   "outputs": [],
   "source": [
    "category_df['published_time'] = [item.year for item in category_df['published_time']]\n",
    "category_df"
   ]
  },
  {
   "cell_type": "markdown",
   "id": "b4449e75-9a76-4640-b6a7-f398d6728779",
>>>>>>> BH_21120451
   "metadata": {},
   "source": [
    "### Analyze data to answer the question?"
   ]
  },
  {
   "cell_type": "markdown",
<<<<<<< HEAD
<<<<<<< HEAD
   "id": "9fe4f423-53a5-4fa8-abd2-662ad1e01a30",
   "metadata": {},
   "source": [
    "First, let's look at how subscriber numbers look over time."
=======
   "id": "79c6aac7-6f00-4e72-87b7-9c859fb8f2f5",
   "metadata": {},
   "source": [
    "#### Percentage of paid courses and free courses"
>>>>>>> DA_21120409
=======
   "id": "bb15a26d-4597-41d3-bef1-203ada18b649",
   "metadata": {},
   "source": [
    "#### Top 5 categories with the most courses in each year in the last 10 years"
   ]
  },
  {
   "cell_type": "markdown",
   "id": "9bd68639-dd46-4d61-879e-13a206ba46d1",
   "metadata": {},
   "source": [
    "- Find top 5 categories with the most courses in each year in the last 10 years"
>>>>>>> BH_21120451
   ]
  },
  {
   "cell_type": "code",
   "execution_count": null,
<<<<<<< HEAD
<<<<<<< HEAD
   "id": "3ef2d78a-b67d-408a-a27d-1f91ab56bd22",
   "metadata": {},
   "outputs": [],
   "source": [
    "num_sub_per_year = udemy_df.groupby('year')['num_subscribers'].sum()\n",
    "display(num_sub_per_year)"
=======
   "id": "6c2a1812-6548-41f3-ac03-392afca3f2b0",
   "metadata": {},
   "outputs": [],
   "source": [
    "is_paid_distribution = df['is_paid'].value_counts()\n",
    "plt.figure(figsize=(10, 7))\n",
    "plt.title('Free vs Paid Courses', fontsize=20)\n",
    "is_paid_distribution.plot.pie(autopct=\"%1.1f%%\", startangle=140)\n",
    "plt.ylabel('')\n",
    "plt.legend(labels=is_paid_distribution.index, loc=\"upper left\", bbox_to_anchor=(1, 1))\n",
=======
   "id": "b094bffb-6820-4955-9971-ebca9c376325",
   "metadata": {},
   "outputs": [],
   "source": [
    "category_df = category_df[category_df['published_time'] >= 2012]\n",
    "years = category_df['published_time'].unique()\n",
    "years.sort()\n",
    "top5_by_year = {}\n",
    "for year in years:\n",
    "    temp_df = category_df[category_df['published_time'] == year]\n",
    "    top5_by_year[year] = dict(temp_df['category'].value_counts().head(5))\n",
    "\n",
    "top5_by_year_df = pd.DataFrame(top5_by_year)\n",
    "top5_by_year_df"
   ]
  },
  {
   "cell_type": "markdown",
   "id": "a0f49c9e-fad1-42d6-8858-52ced6901601",
   "metadata": {},
   "source": [
    "- Visualize top 5 categories with the most courses in each year in the last 10 years"
   ]
  },
  {
   "cell_type": "code",
   "execution_count": null,
   "id": "519ea056-dd99-4f15-8163-1a583cec4a8a",
   "metadata": {},
   "outputs": [],
   "source": [
    "years = top5_by_year_df.columns\n",
    "indexes = top5_by_year_df.index\n",
    "\n",
    "plt.figure(figsize=(20, 10))\n",
    "\n",
    "for index in indexes:\n",
    "    plt.plot(years, top5_by_year_df.loc[index], label=index)\n",
    "\n",
    "plt.xlabel('Year')\n",
    "plt.xticks(years)\n",
    "plt.ylabel('Category count')\n",
    "plt.title('Category count over years')\n",
    "plt.legend()\n",
    "plt.grid(True)\n",
>>>>>>> BH_21120451
    "plt.show()"
   ]
  },
  {
   "cell_type": "markdown",
<<<<<<< HEAD
   "id": "ce8bd7a1-5640-4322-87fd-bafc0396449e",
   "metadata": {},
   "source": [
    "- The dataset predominantly consists of paid courses, accounting for approximately 90% of the total courses. In contrast, free courses make up the remaining 10%. This indicates that the majority of courses in the dataset require payment, while a smaller portion is available for free."
=======
   "id": "4c216483-ef25-4053-a32d-a4101f96dd93",
   "metadata": {},
   "source": [
    "- The number of courses is constantly increasing over the years, peaking in 2021. Then starting to gradually decrease.\n",
    "- It can be seen that since 2014, the top 5 categories with the most courses have not changed until now.\n",
    "- The only course on `Development` and `Business` that has consistently in the top 5 for the last 10 years."
>>>>>>> BH_21120451
   ]
  },
  {
   "cell_type": "markdown",
<<<<<<< HEAD
   "id": "07cf1929-ed60-4292-954e-e52386a19ff3",
   "metadata": {},
   "source": [
    "#### Trend of user in 10 latest years"
=======
   "id": "25f45991-f4e8-4c17-998f-6d2563adb661",
   "metadata": {},
   "source": [
    "#### Top 5 categories with the most subscribers in each year in the last 10 years"
>>>>>>> BH_21120451
   ]
  },
  {
   "cell_type": "markdown",
<<<<<<< HEAD
   "id": "4c806dad-3399-45f8-a702-e84f220fb5bc",
   "metadata": {},
   "source": [
    "- Find top 100 popular course (which has most number of subscribers) in 2012 -> 2022\n",
    "- Count how many free, paid courses in top 100."
>>>>>>> DA_21120409
=======
   "id": "348ec9fa-61b3-4a9f-83a4-aea90423046b",
   "metadata": {},
   "source": [
    "- Find top 5 categories with the most subscribers in each year in the last 10 years"
>>>>>>> BH_21120451
   ]
  },
  {
   "cell_type": "code",
   "execution_count": null,
<<<<<<< HEAD
<<<<<<< HEAD
   "id": "169920ce-00e6-4d0b-8e63-57deacca7b48",
   "metadata": {},
   "outputs": [],
   "source": [
    "plt.figure(figsize=(10, 6))\n",
    "num_sub_per_year.plot(kind='bar', color='skyblue')\n",
    "plt.title('Number of subscribers over year')\n",
    "plt.xlabel('Year')\n",
    "plt.ylabel('Number of subscribers')\n",
=======
   "id": "77cf499c-0356-4b1f-a6ef-01350a06084a",
   "metadata": {},
   "outputs": [],
   "source": [
    "df['year'] = df['published_time'].dt.year\n",
    "\n",
    "# Filter data for the past 10 years\n",
    "recent_years_df = df[df['year'] >= df['year'].max() - 10]\n",
    "\n",
    "# Group by year and select the top 100 courses for each year\n",
    "top_100_by_year = recent_years_df.groupby('year').apply(lambda group: group.sort_values('num_subscribers', ascending=False).head(100))\n",
    "top_100_by_year = top_100_by_year.drop(['year'], axis=1)\n",
    "\n",
    "# Count the course types for each year\n",
    "values_count_by_year = top_100_by_year.groupby(['year', 'is_paid']).size().unstack(fill_value = 0)\n",
    "values_count_by_year"
   ]
  },
  {
   "cell_type": "markdown",
   "id": "b74802c4-cd3b-47ab-9021-7952303a39f8",
   "metadata": {},
   "source": [
    "- Visualize number of free and paid courses in top 100 popular courses for 10 latest years."
   ]
  },
  {
   "cell_type": "code",
   "execution_count": null,
   "id": "1fbc6dbf-8c0d-4325-8ce6-7869baf2b42d",
   "metadata": {},
   "outputs": [],
   "source": [
    "x = np.arange(len(values_count_by_year.index))\n",
    "width = 0.2\n",
    "    \n",
    "fig, ax = plt.subplots(figsize=(30, 15))\n",
    "rects1 = ax.bar(x - width/2 - 0.03, values_count_by_year['Free'], width, label='Free')\n",
    "rects2 = ax.bar(x + width/2 + 0.03, values_count_by_year['Paid'], width, label='Paid')\n",
    "ax.bar_label(rects1, padding=3)\n",
    "ax.bar_label(rects2, padding=3)\n",
    "ax.set_title('Distribution of Top 100 Popular Courses by Course Type (2012 -> 2022)')\n",
    "ax.set_xticks(x)\n",
    "ax.set_xticklabels(values_count_by_year.index)\n",
    "ax.legend()\n",
=======
   "id": "3235eafb-2fea-4520-80f2-5174bd7ea249",
   "metadata": {},
   "outputs": [],
   "source": [
    "category_df = category_df[category_df['published_time'] >= 2012]\n",
    "years = category_df['published_time'].unique()\n",
    "years.sort()\n",
    "top_5_num_sub_by_year = {}\n",
    "for year in years:\n",
    "    temp_df = category_df[category_df['published_time'] == year][['category', 'num_subscribers']]\n",
    "    count_subscribers = temp_df.groupby('category').sum()\n",
    "    count_subscribers = count_subscribers.sort_values('num_subscribers', ascending=False).head(5)\n",
    "    top_5_num_sub_by_year[year] = count_subscribers.to_dict()['num_subscribers']\n",
    "    \n",
    "top_5_num_sub_by_year_df = pd.DataFrame(top_5_num_sub_by_year)\n",
    "top_5_num_sub_by_year_df"
   ]
  },
  {
   "cell_type": "markdown",
   "id": "9abdc73c-aab4-4fc0-9e4b-e27d2ce41468",
   "metadata": {},
   "source": [
    "- Visualize top 5 categories with the most subscribers in each year in the last 10 years"
   ]
  },
  {
   "cell_type": "code",
   "execution_count": null,
   "id": "78ab7596-1e95-4b72-82b8-9dc5ee1a8f9d",
   "metadata": {},
   "outputs": [],
   "source": [
    "years = top_5_num_sub_by_year_df.columns\n",
    "indexes = top_5_num_sub_by_year_df.index\n",
    "\n",
    "plot_df = top_5_num_sub_by_year_df\n",
    "max_in_year = plot_df.agg(['max'])\n",
    "\n",
    "bar_width = 0.1\n",
    "index = np.arange(len(plot_df.columns))\n",
    "fig, ax = plt.subplots(figsize=(30,10))\n",
    "\n",
    "count = -3\n",
    "for i in indexes:\n",
    "    data = plot_df.loc[i]\n",
    "    ax.bar(index - bar_width / 2 + bar_width * count, data, bar_width, label=i)\n",
    "    count += 1\n",
    "\n",
    "ax.bar(index, max_in_year.loc['max'] + 1000000, bar_width * 9, alpha = 0.1, color='black')\n",
    "    \n",
    "ax.set_title('Total subscribers of category count over years')\n",
    "ax.set_xticks(index + bar_width / 2)\n",
    "ax.set_xticklabels(years)\n",
    "ax.legend()\n",
    "ax.grid(True)\n",
>>>>>>> BH_21120451
    "plt.show()"
   ]
  },
  {
   "cell_type": "markdown",
<<<<<<< HEAD
   "id": "2b0c49c5-ab01-4210-9008-74adf2402bfa",
   "metadata": {},
   "source": [
    "- Number of popular free courses is going to reduce.\n",
    "- The shift towards fewer free courses could indicate an emphasis on providing higher-quality or premium content.\n",
    "- I think this shift towards due to free courses have not certificate for finish so number of subcribers is going to decrease."
=======
   "id": "4a00f19d-8556-4ecd-8ce0-855b9b35edab",
   "metadata": {},
   "source": [
    "- The number of subscribers for courses has continuously increased over the years, peaking in 2020. Then, it decreased very rapidly.\n",
    "- There are quite a few fluctuations in the top 5 categories with the most subscribers.\n",
    "- The only course on `Development` and `Business` that has consistently in the top 5 for the last 10 years."
>>>>>>> BH_21120451
   ]
  },
  {
   "cell_type": "markdown",
<<<<<<< HEAD
   "id": "c04c136c-8fda-4a60-88f7-395f124b6af9",
   "metadata": {},
   "source": [
    "#### Correlation between numeric columns"
   ]
  },
  {
   "cell_type": "code",
   "execution_count": null,
   "id": "1b9476c4-493a-42ce-b54f-fa5b4c77df5b",
   "metadata": {},
   "outputs": [],
   "source": [
    "paid_course = df[df['is_paid'] == 'Paid']\n",
    "numeric_cols = ['price', 'num_subscribers', 'num_reviews', 'num_lectures']\n",
    "paid_numeric_df = paid_course[numeric_cols]\n",
    "corr_mat = paid_numeric_df.corr()\n",
    "\n",
    "axis_corr = sns.heatmap(corr_mat,annot=True, vmin=-1, vmax=1,cmap=sns.diverging_palette(50, 500, n=500),square=True)\n",
    "plt.show()"
   ]
  },
  {
   "cell_type": "markdown",
   "id": "5f07728c-ec95-4850-99e0-fd2eb9214163",
   "metadata": {},
   "source": [
    "- Correlation between `price` and `num_subscribers` is 0.046 > 0 so if the course has high price, the number of subscribers wouldn't decrease.\n",
    "- `Number of subscribers` and `number of reviews` has positive correlation like `num_lectures` and `price`\n"
   ]
  },
  {
   "cell_type": "code",
   "execution_count": null,
   "id": "f723dd09-78fa-49b9-96a6-2111749a0cb8",
   "metadata": {},
   "outputs": [],
   "source": [
    "paid_course['year'] = paid_course['published_time'].dt.year\n",
    "# Calculate the price / minute for each year\n",
    "average_price_by_year = paid_course.groupby('year')['price'].sum() / paid_course.groupby('year')['content_length_min'].sum()\n",
    "plt.figure(figsize=(10, 6))\n",
    "average_price_by_year.plot()\n",
    "plt.ylabel('Price / minute')\n",
    "plt.xlabel('Year')\n",
    "plt.title('Fluctuation Price / Minute for each year')\n",
>>>>>>> DA_21120409
    "plt.show()"
   ]
  },
  {
   "cell_type": "markdown",
<<<<<<< HEAD
   "id": "3155bbf2-9a7a-4b93-a454-019991e99bea",
   "metadata": {},
   "source": [
    "- We see that the number of subscribers tends to increase each year. \n",
    "- In 2020, we saw a sudden increase in the number of subscribers, perhaps due to the covid 19 pandemic."
=======
   "id": "7e22d9e0-3805-4363-a5c9-f6c89ddb1b24",
   "metadata": {},
   "source": [
    "- The increase in the price per minute is going to increase."
>>>>>>> DA_21120409
   ]
  },
  {
   "cell_type": "markdown",
<<<<<<< HEAD
   "id": "e8557140-0813-4b5e-97c4-d58e9b861906",
   "metadata": {},
   "source": [
    "Next, the number of courses over time."
=======
   "id": "c650c3c9-425e-4bf2-82ef-358d9e68abd6",
   "metadata": {},
   "source": [
    "**Conclusion**:\n",
    "- Learners today prioritize the practical value and application of knowledge over cost considerations. This trend poses challenges for education platforms to deliver high-quality courses that meet the real needs and desires of learners.\n",
    "- Contemporary learners highly value the quality of course content. They want to ensure that information is accurately conveyed, up-to-date, and practically valuable.\n",
    "- Modern learners often seek courses that align with their individual goals and career development. Learning must be directly related to their areas of interest.\n",
    "- The certification and credibility of a course have become crucial factors. Learners prioritize courses that provide valuable and recognized certificates in their respective fields.\n",
    "- The increase in the price per minute may indicate an effort by course providers to enhance the value of the content.\n",
    "- Learners may be prioritizing the quality of courses over the direct cost. This may reflect their focus on investing in high-quality learning.\n",
    "- The increase in price may reflect a trend where learners prioritize certificates and credits, considering them more important than the direct price of the course."
   ]
  },
  {
   "cell_type": "markdown",
   "id": "86f8c655-9e31-42f3-ab45-d41df2922ff2",
   "metadata": {},
   "source": [
    "## Question 2: How does profit from teaching courses on Udemy?"
   ]
  },
  {
   "cell_type": "markdown",
   "id": "b45b688c-5b44-4425-b79d-7da0e9c0c150",
   "metadata": {},
   "source": [
    "### Benefits of finding the answer?\n",
    "- Instructors can project potential earnings by understanding how Udemy's revenue-sharing model works. This helps in setting realistic financial goals.\n",
    "- Knowledge of the profit model allows instructors to strategize their course pricing.\n",
    "- Knowing how profits are earned encourages instructors to actively engage with the Udemy platform.\n",
    "- Udemy provides instructors with valuable analytics and insights into learner behavior.\n",
    "- Instructors have knowlegde about fluctuation of Udemy's development and determine to teach on Udemy platform or not.\n",
    "- Get the trend of categories which leaner enroll in and invest in this categories."
   ]
  },
  {
   "cell_type": "markdown",
   "id": "8449fafa-498b-4e36-b914-d961cfb4f2ff",
   "metadata": {},
   "source": [
    "### Analyze data to answer the question?"
   ]
  },
  {
   "cell_type": "markdown",
   "id": "7323cabd-7096-4bac-9d07-c1ada1f2c783",
   "metadata": {},
   "source": [
    "#### Top Profitable Courses"
>>>>>>> DA_21120409
   ]
  },
  {
   "cell_type": "code",
   "execution_count": null,
<<<<<<< HEAD
   "id": "b08a4fe3-47ae-4514-bf83-a501e6e80ae5",
   "metadata": {},
   "outputs": [],
   "source": [
    "num_course_per_year = udemy_df.groupby('year')['id'].size()\n",
    "plt.figure(figsize=(10, 6))\n",
    "num_course_per_year.plot(kind='bar', color='skyblue')\n",
    "plt.title('Number of courses over year')\n",
    "plt.xlabel('Year')\n",
    "plt.ylabel('Number of courses')\n",
=======
   "id": "2907359f-22f2-454d-ab69-34a67eb585f2",
   "metadata": {},
   "outputs": [],
   "source": [
    "# profit = price * num_sub\n",
    "paid_course['profit'] = paid_course['num_subscribers'] * paid_course['price']\n",
    "top_course = paid_course.groupby(['id', 'title'])['profit'].sum()\n",
    "top_course = top_course.sort_values(ascending=False).head(10)\n",
    "top_course = top_course.sort_values(ascending=True).head(10)\n",
    "\n",
    "# plt.barh(top_course['profit'], top_course['title\n",
    "plt.figure(figsize=(12, 8))\n",
    "plt.barh(top_course.index.get_level_values('title'), top_course.values, color='skyblue')\n",
    "plt.title('Top 10 Most Profitable Courses')\n",
    "plt.xlabel('Total Profit')\n",
    "plt.ylabel('Course Title')\n",
    "plt.show()\n"
   ]
  },
  {
   "cell_type": "markdown",
   "id": "b2c505b0-7cce-4253-9eaf-d249b34363b4",
   "metadata": {},
   "source": [
    "- Most of courses belong to technology and IT category, but only **The Complete Digital Marketing Course - 12 Courses in 1** - belong to ecomony category in top 10, so it absolutely is the most popuplar economical course.\n",
    "- IT is hot trend, especially **Data Science** gained a lot money, **Python** is top language in earning money from teaching."
   ]
  },
  {
   "cell_type": "markdown",
   "id": "2badc09b-f231-4721-a590-1b9c832db6f3",
   "metadata": {},
   "source": [
    "#### Who gains the most money from teaching on udemy?"
   ]
  },
  {
   "cell_type": "markdown",
   "id": "66d82f58-d5df-4fd7-9623-4265bfe6625e",
   "metadata": {},
   "source": [
    "- Top 5 instructors who gain the most money in each year from 2013 -> 2022"
   ]
  },
  {
   "cell_type": "code",
   "execution_count": null,
   "id": "e0202dd5-246e-4a94-a286-145e82e71aef",
   "metadata": {
    "scrolled": true
   },
   "outputs": [],
   "source": [
    "# instructor co profit cao nhat\n",
    "filtered_data = paid_course[(paid_course['year'] >= 2013) & (paid_course['year'] <= 2022)]\n",
    "\n",
    "instructor_profit_df = filtered_data.groupby(['instructor_name', 'instructor_url', 'year'])['profit'].sum().reset_index()\n",
    "instructor_profit_df = instructor_profit_df.sort_values(by='profit', ascending=False)\n",
    "top_instructors_by_year = instructor_profit_df.groupby('year').apply(lambda x: x.nlargest(5, 'profit')).reset_index(drop=True)\n",
    "top_instructors_by_year"
   ]
  },
  {
   "cell_type": "markdown",
   "id": "8420ff7d-dd0d-413a-b565-9c99c83dca95",
   "metadata": {},
   "source": [
    "- Visualize"
   ]
  },
  {
   "cell_type": "code",
   "execution_count": null,
   "id": "f0f4b804-a183-4792-bde7-49b85cfa8001",
   "metadata": {},
   "outputs": [],
   "source": [
    "fig, axes = plt.subplots(2, 5, figsize=(20, 15), sharey=True)\n",
    "\n",
    "for i, (year, data) in enumerate(top_instructors_by_year.groupby('year')):\n",
    "    ax = axes[i // 5, i % 5]\n",
    "    ax.bar(data['instructor_name'], data['profit'], color='skyblue')\n",
    "    ax.set_title(f'{year}')\n",
    "    ax.set_xlabel('Instructor Name')\n",
    "    ax.set_ylabel('Profit')\n",
    "    ax.set_xticklabels(data['instructor_name'], rotation=45, ha='right', fontsize=7) \n",
    "\n",
    "plt.tight_layout()\n",
>>>>>>> DA_21120409
    "plt.show()"
   ]
  },
  {
   "cell_type": "markdown",
<<<<<<< HEAD
   "id": "fdf88820-71a4-4a7c-ad62-560980eda2a3",
   "metadata": {},
   "source": [
    "The number of instructor over time."
   ]
  },
  {
   "cell_type": "code",
   "execution_count": null,
   "id": "45b9f675-88cd-4459-b5ba-14063b04dfa2",
   "metadata": {},
   "outputs": [],
   "source": [
    "num_instruc_per_year = udemy_df.groupby('year')['instructor_name'].unique()\n",
    "num_instruc_per_year = num_instruc_per_year.apply(lambda x: len(x))\n",
    "plt.figure(figsize=(10, 6))\n",
    "num_instruc_per_year.plot(kind='bar', color='skyblue')\n",
    "plt.title('The number of instructors over year')\n",
    "plt.xlabel('Year')\n",
    "plt.ylabel('Number of instructors')\n",
    "plt.show()"
=======
   "id": "53e08383-6a7f-4c01-a45f-b314399e8840",
   "metadata": {},
   "source": [
    "- According to bar chart, profit of intructors increased until 2020, in 2021, 2022, profit decreased significantly.\n",
    "- Golden age of earning money from Udemy in 2018 -> 2022, the highest profit is 600 million dollar for a year, it is a very big profit.\n",
    "- Instructors name **Learn Tech Plus**, **Srinldhi Ranganathan** usually in top profit by year and have big profit."
>>>>>>> DA_21120409
   ]
  },
  {
   "cell_type": "markdown",
<<<<<<< HEAD
   "id": "213ae943-653e-4ffb-9e90-1cfcd14e88d2",
   "metadata": {},
   "source": [
    "- We can see that after 2020 the number of registrants increased dramatically, in 2021 the number of instructors and the number of courses continues to increase. However, the number of registrations has dropped quite sharply, which tells experienced teachers when to enter the teaching market appropriately.\n",
    "- In general, the number of courses and instructors still tend to increase."
   ]
  },
  {
   "cell_type": "markdown",
   "id": "52da2224-e53b-4cc9-bc94-4ff65196c087",
   "metadata": {},
   "source": [
    "Now, we'll look at another aspect of udemy's growth, looking at the average duration of each course over time."
   ]
  },
  {
   "cell_type": "code",
   "execution_count": null,
   "id": "c2ff6630-fae0-4bb9-aa0f-dbb107be934c",
   "metadata": {},
   "outputs": [],
   "source": [
    "average_duration_per_year = udemy_df.groupby('year')['content_length_min'].mean()\n",
    "plt.figure(figsize=(10, 6))\n",
    "average_duration_per_year.plot()\n",
    "plt.title('The average duration of each course over year')\n",
    "plt.xlabel('Year')\n",
    "plt.ylabel('The average duration')\n",
    "plt.show()"
   ]
  },
  {
   "cell_type": "markdown",
   "id": "506550bc-9ca0-47b1-89bb-618f95a109a0",
   "metadata": {},
   "source": [
    "- We see that the average duration of the course tends to decrease. This helps instructors and teaching centers adjust course times to suit the market."
   ]
  },
  {
   "cell_type": "markdown",
   "id": "200d975d-49e5-4270-8c57-7d8981b969bb",
   "metadata": {},
   "source": [
    "#### Conclusion:\n",
    "- Over the years, Udemy has experienced substantial growth in terms of the number of subscribers, instructors, and courses. The platform's user base has likely expanded significantly as more learners around the world turn to online education.\n",
    "- The growth in the number of instructors and courses on Udemy indicates a diverse range of content available on the platform. This diversity attracts learners with varied interests and learning objectives, contributing to Udemy's popularity.\n",
    "- Udemy's success is likely attributed to its global appeal, with a broad and diverse user base from different countries and cultures. The platform's ability to attract instructors and learners globally demonstrates its effectiveness in providing accessible education.\n",
    "- Udemy's focus on both instructors and learners has contributed to its growth. Instructors are attracted by the opportunity to reach a global audience, while learners benefit from a wide array of courses tailored to various skill levels and interests."
   ]
  },
  {
   "cell_type": "markdown",
   "id": "5411b87d-8177-4725-bb4a-033bf8d32c62",
   "metadata": {},
   "source": [
    "### Question 4: The diversity and scaling of languages?"
   ]
  },
  {
   "cell_type": "markdown",
   "id": "c86fc616-3a0e-44d6-82ef-7a7fa65fd42e",
   "metadata": {},
   "source": [
    "### Benefits of finding the answer?"
   ]
  },
  {
   "cell_type": "markdown",
   "id": "9aa215db-0f22-44f4-a9fc-5a50d166f8b2",
   "metadata": {},
   "source": [
    "- It helps us see the situation about the diversity and proportion of languages ​​used in udemy courses. This can also help us predict which languages ​​will be commonly used in the near future.\n",
    "- Learners tend to engage more actively with content presented in their native language. Offering courses in multiple languages can lead to increased participation, comprehension, and retention of information, as learners feel more comfortable and connected to the material.\n",
    "- Udemy can tap into new markets and demographics by offering courses in different languages. This expansion can lead to increased user base and revenue opportunities as the platform becomes more inclusive and diverse."
   ]
  },
  {
   "cell_type": "markdown",
   "id": "fcf39210-5474-4cf7-b744-ab29b3df5297",
   "metadata": {},
   "source": [
    "### Preprocessing"
   ]
  },
  {
   "cell_type": "markdown",
   "id": "f2f1b78f-91c0-454f-a211-07b0eb057147",
   "metadata": {},
   "source": [
    "We count number of language used in courses"
   ]
  },
  {
   "cell_type": "code",
   "execution_count": null,
   "id": "b3e6ab51-ebec-4c87-8641-354ac8f6e6fa",
   "metadata": {},
   "outputs": [],
   "source": [
    "language_per_year = udemy_df.groupby('year')['language'].unique()\n",
    "language_per_year = language_per_year.apply(lambda x: len(x))"
   ]
  },
  {
   "cell_type": "code",
   "execution_count": null,
   "id": "76265a75-eff6-4e9a-bc72-df929a1b4edd",
   "metadata": {},
   "outputs": [],
   "source": [
    "plt.figure(figsize=(10, 6))\n",
    "language_per_year.plot(kind='bar', color='skyblue')\n",
    "plt.title('Number of languages over year')\n",
    "plt.xlabel('Year')\n",
    "plt.ylabel('Number languages')\n",
    "plt.show()"
   ]
  },
  {
   "cell_type": "markdown",
   "id": "9d6d7eef-5d18-43d0-a3f4-1fcba34911e2",
   "metadata": {},
   "source": [
    "We see languages ​​diversify over time, with more and more types of languages ​​serving learner."
   ]
  },
  {
   "cell_type": "markdown",
   "id": "114c7c29-23f0-4fe7-aa45-424f6e03510f",
   "metadata": {},
   "source": [
    "Next, we look at how much each language is used. Because there are a lot of language, so we take 5 top most popular language, another language we put it type 'Other'"
   ]
  },
  {
   "cell_type": "code",
   "execution_count": null,
   "id": "c76acb21-380f-4b03-a488-0bf2992e54d3",
   "metadata": {},
   "outputs": [],
   "source": [
    "list_language_top = udemy_df.groupby('language')['id'].count().nlargest(5).index\n",
    "list_language_top = pd.Series(list_language_top)\n",
    "language_top = udemy_df[udemy_df['language'].isin(list_language_top)]\n",
    "df_language = language_top.groupby(['year', 'language']).size().unstack(fill_value=0)\n",
    "df_language['Other'] = udemy_df.groupby('year')['language'].size()- df_language.sum(axis=1)\n",
    "df_percentage_language = df_language.div(df_language.sum(axis=1), axis=0) * 100\n",
    "df_percentage_language.plot(kind='area', stacked=True, title='Ratio between languages over years')\n",
    "plt.legend(loc='upper left', bbox_to_anchor=(1, 1))\n",
    "plt.xlabel('Year')\n",
    "fig = plt.gcf()\n",
    "fig.set_size_inches(10, 5)\n",
    "plt.show()"
   ]
  },
  {
   "cell_type": "markdown",
   "id": "ea2f8a96-eb91-46fe-95e4-8e0ceec217e9",
   "metadata": {},
   "source": [
    "- We can see the trend of using languages ​​such as 'Spanish', 'Postuguese', ... is increasing.\n",
    "- English accounts for a large proportion but is no longer as dominant as before."
   ]
  },
  {
   "cell_type": "markdown",
   "id": "1c49464e-81c5-43dc-80cd-c94ef73b414e",
   "metadata": {},
   "source": [
    "#### Conclusion:\n",
    "- Udemy tailor its offerings to local markets by providing courses in languages specific to those regions. This adaptability can help the platform stay relevant and competitive in a globalized education landscape.\n",
    "- Language diversity opens up opportunities for instructors proficient in specific languages to create and deliver content. This can attract skilled instructors from various linguistic backgrounds, enriching the platform with a diverse pool of expertise."
=======
   "id": "863f9ba9-b9d3-404a-ae3b-9fe5d785c5ce",
   "metadata": {},
   "source": [
    "**Conclusion:**\n",
    "- In the previous years, courses related to IT and Technology on Udemy have generated significant profits. This could be attributed to the growing Information Technology industry, the demand for technical skills in the job market, and a high level of interest from learners.\n",
    "- The data suggests a substantial decline in profits courses on Udemy in 2021 and 2022. Several factors may contribute to this, including increased competition, the emergence of alternative online education platforms, or even shifts in learners' preferences.\n",
    "- External factors, such as economic conditions or global events, can impact the demand for specific skills. Economic downturns or shifts in the job market may influence the decision-making of individuals seeking courses, leading to changes in enrollment and, consequently, profitability."
>>>>>>> DA_21120409
=======
   "id": "1890d493-a598-4c11-bc53-23af7b3238c0",
   "metadata": {},
   "source": [
    "**Conclusion:**\n",
    "- Through the two charts showing the top 5 categories with the most courses and the top 5 categories with the most subscribers, it can be seen that categories `Development` and `Business` are always in the top 5 categories. No matter what the trend is, these two categories still occupy an important position.\n",
    "- From 2018 to 2020, it can be seen that this is the time when the categories have the most subscribers. Maybe because this is the time when the whole world has to fight the Covid-19, so people limit activities at school and an online learning place like Udemy is chosen by everyone to continue their studies.\n",
    "- Maybe `Development` doesn't have too many courses, specifically from 2020, the number of courses in `Development` is only in the top 3. But the number of subscribers in `Development` is always in the top 1 and the difference is very large compared to the remaining categories.\n",
    "- Besides, although `IT & Software` has only been developed since 2015, the number of subscribers for this category is top 2 only to `Development` until now.\n",
    "- It seems that the world is following the trend of technology, so `Development` and `IT & Software` courses are of great interest to everyone."
   ]
  },
  {
   "cell_type": "code",
   "execution_count": null,
   "id": "e8a5b09c-109f-465f-be1a-ba6cee911861",
   "metadata": {},
   "outputs": [],
   "source": [
    "a = udemy_df.groupby('category')['subcategory'].value_counts()\n",
    "for k, v in a.items():\n",
    "    print(k, v)"
   ]
  },
  {
   "cell_type": "code",
   "execution_count": null,
   "id": "239a7ade-b54e-4b0b-a839-cfb51b97c262",
   "metadata": {},
   "outputs": [],
   "source": [
    "# udemy_df[udemy_df['last_update_date'] == NaT]\n",
    "# udemy_df[np.isnat(udemy_df['last_update_date'])]\n",
    "a = udemy_df[['published_time', 'last_update_date', 'num_subscribers']]\n",
    "a['published_time'] = [item.year for item in a['published_time']]\n",
    "a['last_update_date'] = [item.year for item in a['last_update_date']]\n",
    "a.sort_values('num_subscribers')"
>>>>>>> BH_21120451
   ]
  }
 ],
 "metadata": {
  "kernelspec": {
   "display_name": "Python 3 (ipykernel)",
   "language": "python",
   "name": "python3"
  },
  "language_info": {
   "codemirror_mode": {
    "name": "ipython",
    "version": 3
   },
   "file_extension": ".py",
   "mimetype": "text/x-python",
   "name": "python",
   "nbconvert_exporter": "python",
   "pygments_lexer": "ipython3",
<<<<<<< HEAD
   "version": "3.10.8"
=======
   "version": "3.9.15"
>>>>>>> BH_21120451
  }
 },
 "nbformat": 4,
 "nbformat_minor": 5
}
