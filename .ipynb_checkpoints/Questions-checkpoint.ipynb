{
 "cells": [
  {
   "cell_type": "markdown",
   "id": "bb4b0b37-bc69-445e-9bc2-54c6957f005d",
   "metadata": {},
   "source": [
    "## Import libraries"
   ]
  },
  {
   "cell_type": "code",
   "execution_count": null,
   "id": "e9353c01-c2d9-4e2a-b588-a2ec3e69af18",
   "metadata": {},
   "outputs": [],
   "source": [
    "import numpy as np\n",
    "import pandas as pd\n",
    "import datetime\n",
    "import matplotlib.pyplot as plt\n",
    "import seaborn as sns\n",
    "import warnings\n",
    "warnings.simplefilter('ignore')"
   ]
  },
  {
   "cell_type": "markdown",
   "id": "096c8fa3-cd80-4169-9430-5ad7f404ff5a",
   "metadata": {},
   "source": [
    "## Question 1: How importance does the price play?"
   ]
  },
  {
   "cell_type": "markdown",
   "id": "40ed8570-2769-43d0-95eb-170065015316",
   "metadata": {},
   "source": [
    "### Benefits of finding the answer: \n",
    "- Knowing the importance of price helps businesses optimize their pricing strategy. They can determine whether customers are highly sensitive to price changes and adjust their pricing models accordingly.\n",
    "- Understanding the role of price allows businesses to position themselves competitively in the market. If price is a significant factor for customers, a company may choose to compete on price or differentiate itself through other means.\n",
    "- Price elasticity insights help businesses set prices that maximize revenue. If customers are willing to pay higher prices for a product or service, companies can capture additional value.\n",
    "- Understanding price sensitivity allows businesses to implement loyalty programs, discounts, or promotions strategically.\n",
    "- Price elasticity insights contribute to more accurate demand forecasting. Businesses can predict how changes in price may affect demand, allowing for better inventory management and resource allocation.\n"
   ]
  },
  {
   "cell_type": "markdown",
   "id": "63212e49-2169-4459-83c1-d5497082ebd2",
   "metadata": {},
   "source": [
    "## Preprocessing"
   ]
  },
  {
   "cell_type": "markdown",
   "id": "29c784b8-c709-4831-8863-40c0ac7ff3f8",
   "metadata": {},
   "source": [
    "- To make the data more human-readable and interpretable, especially when you're creating visualizations or summaries where it's clearer to have 'Paid' and 'Free' instead of 'True' and 'False'. It simplifies the understanding of the data and is often done for better communication."
   ]
  },
  {
   "cell_type": "code",
   "execution_count": null,
   "id": "53967a1e-59da-441b-bbd1-796b58d29a00",
   "metadata": {},
   "outputs": [],
   "source": [
    "df = udemy_df.copy()\n",
    "df['is_paid'] = df['is_paid'].apply(lambda x: 'Free' if x == False else 'Paid')\n",
    "df.head(5)"
   ]
  },
  {
   "cell_type": "markdown",
   "id": "bf091ef2-e7bc-45e4-9148-9b380bbaf4fd",
   "metadata": {},
   "source": [
    "### Analyze data to answer the question?"
   ]
  },
  {
   "cell_type": "markdown",
   "id": "79c6aac7-6f00-4e72-87b7-9c859fb8f2f5",
   "metadata": {},
   "source": [
    "#### Percentage of paid courses and free courses"
   ]
  },
  {
   "cell_type": "code",
   "execution_count": null,
   "id": "6c2a1812-6548-41f3-ac03-392afca3f2b0",
   "metadata": {},
   "outputs": [],
   "source": [
    "is_paid_distribution = df['is_paid'].value_counts()\n",
    "plt.figure(figsize=(10, 7))\n",
    "plt.title('Free vs Paid Courses', fontsize=20)\n",
    "is_paid_distribution.plot.pie(autopct=\"%1.1f%%\", startangle=140)\n",
    "plt.ylabel('')\n",
    "plt.legend(labels=is_paid_distribution.index, loc=\"upper left\", bbox_to_anchor=(1, 1))\n",
    "plt.show()"
   ]
  },
  {
   "cell_type": "markdown",
   "id": "ce8bd7a1-5640-4322-87fd-bafc0396449e",
   "metadata": {},
   "source": [
    "- The dataset predominantly consists of paid courses, accounting for approximately 90% of the total courses. In contrast, free courses make up the remaining 10%. This indicates that the majority of courses in the dataset require payment, while a smaller portion is available for free."
   ]
  },
  {
   "cell_type": "markdown",
   "id": "07cf1929-ed60-4292-954e-e52386a19ff3",
   "metadata": {},
   "source": [
    "#### Trend of user in 10 latest years"
   ]
  },
  {
   "cell_type": "markdown",
   "id": "4c806dad-3399-45f8-a702-e84f220fb5bc",
   "metadata": {},
   "source": [
    "- Find top 100 popular course (which has most number of subscribers) in 2012 -> 2022\n",
    "- Count how many free, paid courses in top 100."
   ]
  },
  {
   "cell_type": "code",
   "execution_count": null,
   "id": "77cf499c-0356-4b1f-a6ef-01350a06084a",
   "metadata": {},
   "outputs": [],
   "source": [
    "df['year'] = df['published_time'].dt.year\n",
    "\n",
    "# Filter data for the past 10 years\n",
    "recent_years_df = df[df['year'] >= df['year'].max() - 10]\n",
    "\n",
    "# Group by year and select the top 100 courses for each year\n",
    "top_100_by_year = recent_years_df.groupby('year').apply(lambda group: group.sort_values('num_subscribers', ascending=False).head(100))\n",
    "top_100_by_year = top_100_by_year.drop(['year'], axis=1)\n",
    "\n",
    "# Count the course types for each year\n",
    "values_count_by_year = top_100_by_year.groupby(['year', 'is_paid']).size().unstack(fill_value = 0)\n",
    "values_count_by_year"
   ]
  },
  {
   "cell_type": "markdown",
   "id": "b74802c4-cd3b-47ab-9021-7952303a39f8",
   "metadata": {},
   "source": [
    "- Visualize number of free and paid courses in top 100 popular courses for 10 latest years."
   ]
  },
  {
   "cell_type": "code",
   "execution_count": null,
   "id": "1fbc6dbf-8c0d-4325-8ce6-7869baf2b42d",
   "metadata": {},
   "outputs": [],
   "source": [
    "x = np.arange(len(values_count_by_year.index))\n",
    "width = 0.2\n",
    "    \n",
    "fig, ax = plt.subplots(figsize=(30, 15))\n",
    "rects1 = ax.bar(x - width/2 - 0.03, values_count_by_year['Free'], width, label='Free')\n",
    "rects2 = ax.bar(x + width/2 + 0.03, values_count_by_year['Paid'], width, label='Paid')\n",
    "ax.bar_label(rects1, padding=3)\n",
    "ax.bar_label(rects2, padding=3)\n",
    "ax.set_title('Distribution of Top 100 Popular Courses by Course Type (2012 -> 2022)')\n",
    "ax.set_xticks(x)\n",
    "ax.set_xticklabels(values_count_by_year.index)\n",
    "ax.legend()\n",
    "plt.show()"
   ]
  },
  {
   "cell_type": "markdown",
   "id": "2b0c49c5-ab01-4210-9008-74adf2402bfa",
   "metadata": {},
   "source": [
    "- Number of popular free courses is going to reduce.\n",
    "- The shift towards fewer free courses could indicate an emphasis on providing higher-quality or premium content.\n",
    "- I think this shift towards due to free courses have not certificate for finish so number of subcribers is going to decrease."
   ]
  },
  {
   "cell_type": "markdown",
   "id": "c04c136c-8fda-4a60-88f7-395f124b6af9",
   "metadata": {},
   "source": [
    "#### Correlation between numeric columns"
   ]
  },
  {
   "cell_type": "code",
   "execution_count": null,
   "id": "1b9476c4-493a-42ce-b54f-fa5b4c77df5b",
   "metadata": {},
   "outputs": [],
   "source": [
    "paid_course = df[df['is_paid'] == 'Paid']\n",
    "numeric_cols = ['price', 'num_subscribers', 'num_reviews', 'num_lectures']\n",
    "paid_numeric_df = paid_course[numeric_cols]\n",
    "corr_mat = paid_numeric_df.corr()\n",
    "\n",
    "axis_corr = sns.heatmap(corr_mat,annot=True, vmin=-1, vmax=1,cmap=sns.diverging_palette(50, 500, n=500),square=True)\n",
    "plt.show()"
   ]
  },
  {
   "cell_type": "markdown",
   "id": "5f07728c-ec95-4850-99e0-fd2eb9214163",
   "metadata": {},
   "source": [
    "- Correlation between `price` and `num_subscribers` is 0.046 > 0 so if the course has high price, the number of subscribers wouldn't decrease.\n",
    "- `Number of subscribers` and `number of reviews` has positive correlation like `num_lectures` and `price`\n"
   ]
  },
  {
   "cell_type": "code",
   "execution_count": null,
   "id": "f723dd09-78fa-49b9-96a6-2111749a0cb8",
   "metadata": {},
   "outputs": [],
   "source": [
    "paid_course['year'] = paid_course['published_time'].dt.year\n",
    "# Calculate the price / minute for each year\n",
    "average_price_by_year = paid_course.groupby('year')['price'].sum() / paid_course.groupby('year')['content_length_min'].sum()\n",
    "plt.figure(figsize=(10, 6))\n",
    "average_price_by_year.plot()\n",
    "plt.ylabel('Price / minute')\n",
    "plt.xlabel('Year')\n",
    "plt.title('Fluctuation Price / Minute for each year')\n",
    "plt.show()"
   ]
  },
  {
   "cell_type": "markdown",
   "id": "7e22d9e0-3805-4363-a5c9-f6c89ddb1b24",
   "metadata": {},
   "source": [
    "- The increase in the price per minute is going to increase."
   ]
  },
  {
   "cell_type": "markdown",
   "id": "c650c3c9-425e-4bf2-82ef-358d9e68abd6",
   "metadata": {},
   "source": [
    "**Conclusion**:\n",
    "- Learners today prioritize the practical value and application of knowledge over cost considerations. This trend poses challenges for education platforms to deliver high-quality courses that meet the real needs and desires of learners.\n",
    "- Contemporary learners highly value the quality of course content. They want to ensure that information is accurately conveyed, up-to-date, and practically valuable.\n",
    "- Modern learners often seek courses that align with their individual goals and career development. Learning must be directly related to their areas of interest.\n",
    "- The certification and credibility of a course have become crucial factors. Learners prioritize courses that provide valuable and recognized certificates in their respective fields.\n",
    "- The increase in the price per minute may indicate an effort by course providers to enhance the value of the content.\n",
    "- Learners may be prioritizing the quality of courses over the direct cost. This may reflect their focus on investing in high-quality learning.\n",
    "- The increase in price may reflect a trend where learners prioritize certificates and credits, considering them more important than the direct price of the course."
   ]
  },
  {
   "cell_type": "markdown",
   "id": "86f8c655-9e31-42f3-ab45-d41df2922ff2",
   "metadata": {},
   "source": [
    "## Question 2: How does profit from teaching courses on Udemy?"
   ]
  },
  {
   "cell_type": "markdown",
   "id": "b45b688c-5b44-4425-b79d-7da0e9c0c150",
   "metadata": {},
   "source": [
    "### Benefits of finding the answer?\n",
    "- Instructors can project potential earnings by understanding how Udemy's revenue-sharing model works. This helps in setting realistic financial goals.\n",
    "- Knowledge of the profit model allows instructors to strategize their course pricing.\n",
    "- Knowing how profits are earned encourages instructors to actively engage with the Udemy platform.\n",
    "- Udemy provides instructors with valuable analytics and insights into learner behavior.\n",
    "- Instructors have knowlegde about fluctuation of Udemy's development and determine to teach on Udemy platform or not.\n",
    "- Get the trend of categories which leaner enroll in and invest in this categories."
   ]
  },
  {
   "cell_type": "markdown",
   "id": "8449fafa-498b-4e36-b914-d961cfb4f2ff",
   "metadata": {},
   "source": [
    "### Analyze data to answer the question?"
   ]
  },
  {
   "cell_type": "markdown",
   "id": "7323cabd-7096-4bac-9d07-c1ada1f2c783",
   "metadata": {},
   "source": [
    "#### Top Profitable Courses"
   ]
  },
  {
   "cell_type": "code",
   "execution_count": null,
   "id": "2907359f-22f2-454d-ab69-34a67eb585f2",
   "metadata": {},
   "outputs": [],
   "source": [
    "# profit = price * num_sub\n",
    "paid_course['profit'] = paid_course['num_subscribers'] * paid_course['price']\n",
    "top_course = paid_course.groupby(['id', 'title'])['profit'].sum()\n",
    "top_course = top_course.sort_values(ascending=False).head(10)\n",
    "top_course = top_course.sort_values(ascending=True).head(10)\n",
    "\n",
    "# plt.barh(top_course['profit'], top_course['title\n",
    "plt.figure(figsize=(12, 8))\n",
    "plt.barh(top_course.index.get_level_values('title'), top_course.values, color='skyblue')\n",
    "plt.title('Top 10 Most Profitable Courses')\n",
    "plt.xlabel('Total Profit')\n",
    "plt.ylabel('Course Title')\n",
    "plt.show()\n"
   ]
  },
  {
   "cell_type": "markdown",
   "id": "b2c505b0-7cce-4253-9eaf-d249b34363b4",
   "metadata": {},
   "source": [
    "- Most of courses belong to technology and IT category, but only **The Complete Digital Marketing Course - 12 Courses in 1** - belong to ecomony category in top 10, so it absolutely is the most popuplar economical course.\n",
    "- IT is hot trend, especially **Data Science** gained a lot money, **Python** is top language in earning money from teaching."
   ]
  },
  {
   "cell_type": "markdown",
   "id": "2badc09b-f231-4721-a590-1b9c832db6f3",
   "metadata": {},
   "source": [
    "#### Who gains the most money from teaching on udemy?"
   ]
  },
  {
   "cell_type": "markdown",
   "id": "66d82f58-d5df-4fd7-9623-4265bfe6625e",
   "metadata": {},
   "source": [
    "- Top 5 instructors who gain the most money in each year from 2013 -> 2022"
   ]
  },
  {
   "cell_type": "code",
   "execution_count": null,
   "id": "e0202dd5-246e-4a94-a286-145e82e71aef",
   "metadata": {
    "scrolled": true
   },
   "outputs": [],
   "source": [
    "# instructor co profit cao nhat\n",
    "filtered_data = paid_course[(paid_course['year'] >= 2013) & (paid_course['year'] <= 2022)]\n",
    "\n",
    "instructor_profit_df = filtered_data.groupby(['instructor_name', 'instructor_url', 'year'])['profit'].sum().reset_index()\n",
    "instructor_profit_df = instructor_profit_df.sort_values(by='profit', ascending=False)\n",
    "top_instructors_by_year = instructor_profit_df.groupby('year').apply(lambda x: x.nlargest(5, 'profit')).reset_index(drop=True)\n",
    "top_instructors_by_year"
   ]
  },
  {
   "cell_type": "markdown",
   "id": "8420ff7d-dd0d-413a-b565-9c99c83dca95",
   "metadata": {},
   "source": [
    "- Visualize"
   ]
  },
  {
   "cell_type": "code",
   "execution_count": null,
   "id": "f0f4b804-a183-4792-bde7-49b85cfa8001",
   "metadata": {},
   "outputs": [],
   "source": [
    "fig, axes = plt.subplots(2, 5, figsize=(20, 15), sharey=True)\n",
    "\n",
    "for i, (year, data) in enumerate(top_instructors_by_year.groupby('year')):\n",
    "    ax = axes[i // 5, i % 5]\n",
    "    ax.bar(data['instructor_name'], data['profit'], color='skyblue')\n",
    "    ax.set_title(f'{year}')\n",
    "    ax.set_xlabel('Instructor Name')\n",
    "    ax.set_ylabel('Profit')\n",
    "    ax.set_xticklabels(data['instructor_name'], rotation=45, ha='right', fontsize=7) \n",
    "\n",
    "plt.tight_layout()\n",
    "plt.show()"
   ]
  },
  {
   "cell_type": "markdown",
   "id": "53e08383-6a7f-4c01-a45f-b314399e8840",
   "metadata": {},
   "source": [
    "- According to bar chart, profit of intructors increased until 2020, in 2021, 2022, profit decreased significantly.\n",
    "- Golden age of earning money from Udemy in 2018 -> 2022, the highest profit is 600 million dollar for a year, it is a very big profit.\n",
    "- Instructors name **Learn Tech Plus**, **Srinldhi Ranganathan** usually in top profit by year and have big profit."
   ]
  },
  {
   "cell_type": "markdown",
   "id": "863f9ba9-b9d3-404a-ae3b-9fe5d785c5ce",
   "metadata": {},
   "source": [
    "**Conclusion:**\n",
    "- In the previous years, courses related to IT and Technology on Udemy have generated significant profits. This could be attributed to the growing Information Technology industry, the demand for technical skills in the job market, and a high level of interest from learners.\n",
    "- The data suggests a substantial decline in profits courses on Udemy in 2021 and 2022. Several factors may contribute to this, including increased competition, the emergence of alternative online education platforms, or even shifts in learners' preferences.\n",
    "- External factors, such as economic conditions or global events, can impact the demand for specific skills. Economic downturns or shifts in the job market may influence the decision-making of individuals seeking courses, leading to changes in enrollment and, consequently, profitability."
   ]
  }
 ],
 "metadata": {
  "kernelspec": {
   "display_name": "Python 3 (ipykernel)",
   "language": "python",
   "name": "python3"
  },
  "language_info": {
   "codemirror_mode": {
    "name": "ipython",
    "version": 3
   },
   "file_extension": ".py",
   "mimetype": "text/x-python",
   "name": "python",
   "nbconvert_exporter": "python",
   "pygments_lexer": "ipython3",
   "version": "3.10.8"
  }
 },
 "nbformat": 4,
 "nbformat_minor": 5
}
