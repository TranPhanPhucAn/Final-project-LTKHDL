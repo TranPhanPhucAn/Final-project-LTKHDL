{
 "cells": [
  {
   "cell_type": "markdown",
   "id": "1b19a0b2-8045-4c1c-91af-2909d4e0d822",
   "metadata": {},
   "source": [
    "<div style=\"text-align: center; background-color: #0A6EBD; font-family: 'Trebuchet MS', Arial, sans-serif; color: white; padding: 20px; font-size: 40px; font-weight: bold; border-radius: 0 0 0 0; box-shadow: 0px 6px 8px rgba(0, 0, 0, 0.2);\">\n",
    " Final Project Programming for Data Science\n",
    "</div>"
   ]
  },
  {
   "cell_type": "markdown",
   "id": "2972842a-b057-41ef-b60b-6ccc7fd73744",
   "metadata": {},
   "source": [
    "<div style=\"text-align: center; background-color: #5A96E3; font-family: 'Trebuchet MS', Arial, sans-serif; color: white; padding: 20px; font-size: 40px; font-weight: bold; border-radius: 0 0 0 0; box-shadow: 0px 6px 8px rgba(0, 0, 0, 0.2);\">\n",
    "  Exploring Data</div>"
   ]
  },
  {
   "cell_type": "markdown",
   "id": "a8a9c398-6d40-4dd5-9b2e-89b095a095bb",
   "metadata": {},
   "source": [
    "## Import libraries"
   ]
  },
  {
   "cell_type": "code",
   "execution_count": 1,
   "id": "3e096902-7f2d-45da-a894-961494c5ad89",
   "metadata": {},
   "outputs": [],
   "source": [
    "import numpy as np\n",
    "import pandas as pd"
   ]
  },
  {
   "cell_type": "markdown",
   "id": "4986165a-2d32-4970-9e01-d0cb51cbe0ef",
   "metadata": {},
   "source": [
    "## Read data from csv file"
   ]
  },
  {
   "cell_type": "code",
   "execution_count": 2,
   "id": "5ce2b007-8126-4e1b-9957-a8cf6682d5b0",
   "metadata": {},
   "outputs": [],
   "source": [
    "udemy_df = pd.read_csv(\"Data/data.csv\")"
   ]
  },
  {
   "cell_type": "markdown",
   "id": "e155895f-2677-4dc4-b2da-ef632c2c70c1",
   "metadata": {},
   "source": [
    "## Data Exploring"
   ]
  },
  {
   "cell_type": "markdown",
   "id": "8ed101d4-7999-4329-b991-47d64af0a722",
   "metadata": {},
   "source": [
    "### What is the meaning of each column?"
   ]
  },
  {
   "cell_type": "markdown",
   "id": "2d483bbc-fd9b-45a9-b55e-be6d9670c1a2",
   "metadata": {},
   "source": [
    "- `id`: ID of the course\n",
    "- `title`: Title of the course\n",
    "- `url`: Course URL \n",
    "- `is_paid`: Have to pay for the course?\n",
    "- `num_subscribers`: Number of people registered for the course\n",
    "- `avg_rating`: Average rating\n",
    "- `avg_rating_recent`: Recent average rating\n",
    "- `rating`: Rating of the course\n",
    "- `num_reviews`: Number of course reviews\n",
    "- `is_wishlisted`: Has the course been added to the wishlist?\n",
    "- `num_published_lectures`: Number of lectures published\n",
    "- `num_published_practice_tests`: Number of practice tests published\n",
    "- `created`: Date crated\n",
    "- `published_time`: Date published\n",
    "- `discount_price__amount`: Discount amount \n",
    "- `discount_price__currency`: Currency of the discount amount\n",
    "- `discount_price__price_string`: Discount amount but in format string\n",
    "- `price_detail__amount`: Price detail amount\n",
    "- `price_detail__currency`: Currency of the price detail\n",
    "- `price_detail__price_string`: Price detail but in format string"
   ]
  },
  {
   "cell_type": "markdown",
   "id": "c6e14cf7-c531-488d-ba91-0d32c96dbbf7",
   "metadata": {},
   "source": [
    "### What is the current data type of each column? Are there columns having inappropriate data types?"
   ]
  },
  {
   "cell_type": "code",
   "execution_count": 3,
   "id": "28248982-16e2-4ef4-b143-ea3e4e46e177",
   "metadata": {},
   "outputs": [
    {
     "data": {
      "text/html": [
       "<div>\n",
       "<style scoped>\n",
       "    .dataframe tbody tr th:only-of-type {\n",
       "        vertical-align: middle;\n",
       "    }\n",
       "\n",
       "    .dataframe tbody tr th {\n",
       "        vertical-align: top;\n",
       "    }\n",
       "\n",
       "    .dataframe thead th {\n",
       "        text-align: right;\n",
       "    }\n",
       "</style>\n",
       "<table border=\"1\" class=\"dataframe\">\n",
       "  <thead>\n",
       "    <tr style=\"text-align: right;\">\n",
       "      <th></th>\n",
       "      <th>id</th>\n",
       "      <th>title</th>\n",
       "      <th>url</th>\n",
       "      <th>is_paid</th>\n",
       "      <th>num_subscribers</th>\n",
       "      <th>avg_rating</th>\n",
       "      <th>avg_rating_recent</th>\n",
       "      <th>rating</th>\n",
       "      <th>num_reviews</th>\n",
       "      <th>is_wishlisted</th>\n",
       "      <th>num_published_lectures</th>\n",
       "      <th>num_published_practice_tests</th>\n",
       "      <th>created</th>\n",
       "      <th>published_time</th>\n",
       "      <th>discount_price__amount</th>\n",
       "      <th>discount_price__currency</th>\n",
       "      <th>discount_price__price_string</th>\n",
       "      <th>price_detail__amount</th>\n",
       "      <th>price_detail__currency</th>\n",
       "      <th>price_detail__price_string</th>\n",
       "    </tr>\n",
       "  </thead>\n",
       "  <tbody>\n",
       "    <tr>\n",
       "      <th>Type</th>\n",
       "      <td>int64</td>\n",
       "      <td>object</td>\n",
       "      <td>object</td>\n",
       "      <td>bool</td>\n",
       "      <td>int64</td>\n",
       "      <td>float64</td>\n",
       "      <td>float64</td>\n",
       "      <td>float64</td>\n",
       "      <td>int64</td>\n",
       "      <td>bool</td>\n",
       "      <td>int64</td>\n",
       "      <td>int64</td>\n",
       "      <td>object</td>\n",
       "      <td>object</td>\n",
       "      <td>float64</td>\n",
       "      <td>object</td>\n",
       "      <td>object</td>\n",
       "      <td>float64</td>\n",
       "      <td>object</td>\n",
       "      <td>object</td>\n",
       "    </tr>\n",
       "  </tbody>\n",
       "</table>\n",
       "</div>"
      ],
      "text/plain": [
       "         id   title     url is_paid num_subscribers avg_rating  \\\n",
       "Type  int64  object  object    bool           int64    float64   \n",
       "\n",
       "     avg_rating_recent   rating num_reviews is_wishlisted  \\\n",
       "Type           float64  float64       int64          bool   \n",
       "\n",
       "     num_published_lectures num_published_practice_tests created  \\\n",
       "Type                  int64                        int64  object   \n",
       "\n",
       "     published_time discount_price__amount discount_price__currency  \\\n",
       "Type         object                float64                   object   \n",
       "\n",
       "     discount_price__price_string price_detail__amount price_detail__currency  \\\n",
       "Type                       object              float64                 object   \n",
       "\n",
       "     price_detail__price_string  \n",
       "Type                     object  "
      ]
     },
     "execution_count": 3,
     "metadata": {},
     "output_type": "execute_result"
    }
   ],
   "source": [
    "type_df = pd.DataFrame(udemy_df.dtypes, columns=['Type']).T\n",
    "type_df"
   ]
  },
  {
   "cell_type": "markdown",
   "id": "86545dab-a6ae-491f-bcfb-9f8b99ecf7f0",
   "metadata": {},
   "source": [
    "- Columns: `created`, `published_time` are used to represent time, it should be of type `datetime` instead of `object`\n",
    "- Columns: `discount_price__amount`, `discount_price__currency`, `discount_price__price_string` used to represent discount, but only use column: `discount_price__amount`, so we'll drop columns: `discount_price__currency`, `discount_price__price_string`\n",
    "-  Columns: `price_detail__amount`, `price_detail__currency`, `price_detail__price_string` used to represent price detail, but only use column: `price_detail__amount`, so we'll drop columns: `price_detail__currency`, `price_detail__price_string`"
   ]
  },
  {
   "cell_type": "markdown",
   "id": "a8eeeb4e-e9e2-40e5-80c1-47c3402d3c2c",
   "metadata": {},
   "source": [
    "- Convert `created`, `published_time` to datetime"
   ]
  },
  {
   "cell_type": "code",
   "execution_count": 4,
   "id": "981eeb9d-d937-4fa3-b7a6-7eaa0f07839f",
   "metadata": {},
   "outputs": [],
   "source": [
    "udemy_df['created'] = pd.to_datetime(udemy_df['created'], format='%Y-%m-%dT%H:%M:%SZ')\n",
    "udemy_df['published_time'] = pd.to_datetime(udemy_df['published_time'], format='%Y-%m-%dT%H:%M:%SZ')"
   ]
  },
  {
   "cell_type": "markdown",
   "id": "b590b16e-7494-48c1-b505-a1129d706ef4",
   "metadata": {},
   "source": [
    "- Drop `discount_price__currency`, `discount_price__price_string`, `price_detail__currency`, `price_detail__price_string`"
   ]
  },
  {
   "cell_type": "code",
   "execution_count": 5,
   "id": "0f3777cd-56c4-45a6-9190-b80afcd6851f",
   "metadata": {},
   "outputs": [],
   "source": [
    "udemy_df = udemy_df.drop(['discount_price__currency', 'discount_price__price_string', 'price_detail__currency', 'price_detail__price_string'], axis=1)"
   ]
  },
  {
   "cell_type": "markdown",
   "id": "4fc342d3-a565-4029-8039-ed8e2375aa42",
   "metadata": {},
   "source": [
    "### With each numerical column, how are values distributed? "
   ]
  },
  {
   "cell_type": "markdown",
   "id": "31bffdf9-989b-4b6c-9deb-db55af2b65bb",
   "metadata": {},
   "source": [
    "#### What is the percentage of missing values?"
   ]
  },
  {
   "cell_type": "code",
   "execution_count": 6,
   "id": "a4e81261-4c95-4447-965f-9cffbfcaba18",
   "metadata": {},
   "outputs": [
    {
     "data": {
      "text/html": [
       "<div>\n",
       "<style scoped>\n",
       "    .dataframe tbody tr th:only-of-type {\n",
       "        vertical-align: middle;\n",
       "    }\n",
       "\n",
       "    .dataframe tbody tr th {\n",
       "        vertical-align: top;\n",
       "    }\n",
       "\n",
       "    .dataframe thead th {\n",
       "        text-align: right;\n",
       "    }\n",
       "</style>\n",
       "<table border=\"1\" class=\"dataframe\">\n",
       "  <thead>\n",
       "    <tr style=\"text-align: right;\">\n",
       "      <th></th>\n",
       "      <th>Percentage of missing values(%)</th>\n",
       "    </tr>\n",
       "  </thead>\n",
       "  <tbody>\n",
       "    <tr>\n",
       "      <th>id</th>\n",
       "      <td>0.000000</td>\n",
       "    </tr>\n",
       "    <tr>\n",
       "      <th>num_subscribers</th>\n",
       "      <td>0.000000</td>\n",
       "    </tr>\n",
       "    <tr>\n",
       "      <th>avg_rating</th>\n",
       "      <td>0.000000</td>\n",
       "    </tr>\n",
       "    <tr>\n",
       "      <th>avg_rating_recent</th>\n",
       "      <td>0.000000</td>\n",
       "    </tr>\n",
       "    <tr>\n",
       "      <th>rating</th>\n",
       "      <td>0.000000</td>\n",
       "    </tr>\n",
       "    <tr>\n",
       "      <th>num_reviews</th>\n",
       "      <td>0.000000</td>\n",
       "    </tr>\n",
       "    <tr>\n",
       "      <th>num_published_lectures</th>\n",
       "      <td>0.000000</td>\n",
       "    </tr>\n",
       "    <tr>\n",
       "      <th>num_published_practice_tests</th>\n",
       "      <td>0.000000</td>\n",
       "    </tr>\n",
       "    <tr>\n",
       "      <th>discount_price__amount</th>\n",
       "      <td>8.003326</td>\n",
       "    </tr>\n",
       "    <tr>\n",
       "      <th>price_detail__amount</th>\n",
       "      <td>2.174769</td>\n",
       "    </tr>\n",
       "  </tbody>\n",
       "</table>\n",
       "</div>"
      ],
      "text/plain": [
       "                              Percentage of missing values(%)\n",
       "id                                                   0.000000\n",
       "num_subscribers                                      0.000000\n",
       "avg_rating                                           0.000000\n",
       "avg_rating_recent                                    0.000000\n",
       "rating                                               0.000000\n",
       "num_reviews                                          0.000000\n",
       "num_published_lectures                               0.000000\n",
       "num_published_practice_tests                         0.000000\n",
       "discount_price__amount                               8.003326\n",
       "price_detail__amount                                 2.174769"
      ]
     },
     "execution_count": 6,
     "metadata": {},
     "output_type": "execute_result"
    }
   ],
   "source": [
    "numerical_df = udemy_df.select_dtypes(include='number')\n",
    "missing_percentage = numerical_df.isnull().mean() * 100\n",
    "pd.DataFrame(missing_percentage, columns=['Percentage of missing values(%)'])"
   ]
  },
  {
   "cell_type": "markdown",
   "id": "8036472a-b880-4060-b394-1e7031d021ad",
   "metadata": {},
   "source": [
    "#### Min? max? Are they abnormal?"
   ]
  },
  {
   "cell_type": "code",
   "execution_count": 7,
   "id": "8377e745-c347-4cc9-ac4b-086b18ecce49",
   "metadata": {},
   "outputs": [
    {
     "data": {
      "text/html": [
       "<div>\n",
       "<style scoped>\n",
       "    .dataframe tbody tr th:only-of-type {\n",
       "        vertical-align: middle;\n",
       "    }\n",
       "\n",
       "    .dataframe tbody tr th {\n",
       "        vertical-align: top;\n",
       "    }\n",
       "\n",
       "    .dataframe thead th {\n",
       "        text-align: right;\n",
       "    }\n",
       "</style>\n",
       "<table border=\"1\" class=\"dataframe\">\n",
       "  <thead>\n",
       "    <tr style=\"text-align: right;\">\n",
       "      <th></th>\n",
       "      <th>id</th>\n",
       "      <th>num_subscribers</th>\n",
       "      <th>avg_rating</th>\n",
       "      <th>avg_rating_recent</th>\n",
       "      <th>rating</th>\n",
       "      <th>num_reviews</th>\n",
       "      <th>num_published_lectures</th>\n",
       "      <th>num_published_practice_tests</th>\n",
       "      <th>discount_price__amount</th>\n",
       "      <th>price_detail__amount</th>\n",
       "    </tr>\n",
       "  </thead>\n",
       "  <tbody>\n",
       "    <tr>\n",
       "      <th>min</th>\n",
       "      <td>2762</td>\n",
       "      <td>0</td>\n",
       "      <td>0.0</td>\n",
       "      <td>0.0</td>\n",
       "      <td>0.0</td>\n",
       "      <td>0</td>\n",
       "      <td>0</td>\n",
       "      <td>0</td>\n",
       "      <td>455.0</td>\n",
       "      <td>1280.0</td>\n",
       "    </tr>\n",
       "    <tr>\n",
       "      <th>max</th>\n",
       "      <td>3486006</td>\n",
       "      <td>564444</td>\n",
       "      <td>5.0</td>\n",
       "      <td>5.0</td>\n",
       "      <td>5.0</td>\n",
       "      <td>188941</td>\n",
       "      <td>699</td>\n",
       "      <td>6</td>\n",
       "      <td>3200.0</td>\n",
       "      <td>12800.0</td>\n",
       "    </tr>\n",
       "  </tbody>\n",
       "</table>\n",
       "</div>"
      ],
      "text/plain": [
       "          id  num_subscribers  avg_rating  avg_rating_recent  rating  \\\n",
       "min     2762                0         0.0                0.0     0.0   \n",
       "max  3486006           564444         5.0                5.0     5.0   \n",
       "\n",
       "     num_reviews  num_published_lectures  num_published_practice_tests  \\\n",
       "min            0                       0                             0   \n",
       "max       188941                     699                             6   \n",
       "\n",
       "     discount_price__amount  price_detail__amount  \n",
       "min                   455.0                1280.0  \n",
       "max                  3200.0               12800.0  "
      ]
     },
     "execution_count": 7,
     "metadata": {},
     "output_type": "execute_result"
    }
   ],
   "source": [
    "min_max = numerical_df.agg(['min', 'max'])\n",
    "min_max"
   ]
  },
  {
   "cell_type": "markdown",
   "id": "2881861a-fa39-4e9d-8d4d-fb147c4be434",
   "metadata": {},
   "source": [
    "- There is nothing abnormal about calculating the minimum and maximum values of numeric columns."
   ]
  }
 ],
 "metadata": {
  "kernelspec": {
   "display_name": "Python 3 (ipykernel)",
   "language": "python",
   "name": "python3"
  },
  "language_info": {
   "codemirror_mode": {
    "name": "ipython",
    "version": 3
   },
   "file_extension": ".py",
   "mimetype": "text/x-python",
   "name": "python",
   "nbconvert_exporter": "python",
   "pygments_lexer": "ipython3",
   "version": "3.9.0"
  }
 },
 "nbformat": 4,
 "nbformat_minor": 5
}
