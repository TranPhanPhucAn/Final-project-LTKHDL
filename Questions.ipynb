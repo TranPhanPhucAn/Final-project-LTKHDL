{
 "cells": [
  {
   "cell_type": "markdown",
   "id": "34f8af1b-9bae-4609-9874-55b3a2e24531",
   "metadata": {},
   "source": [
    "<div style=\"text-align: center; background-color: #0A6EBD; font-family: 'Trebuchet MS', Arial, sans-serif; color: white; padding: 20px; font-size: 40px; font-weight: bold; border-radius: 0 0 0 0; box-shadow: 0px 6px 8px rgba(0, 0, 0, 0.2);\">\n",
    " Final Project Programming for Data Science\n",
    "</div>"
   ]
  },
  {
   "cell_type": "markdown",
   "id": "0d0a3af0-54d8-4e1a-b4b7-9000eeeef1b5",
   "metadata": {},
   "source": [
    "<div style=\"text-align: center; background-color: #5A96E3; font-family: 'Trebuchet MS', Arial, sans-serif; color: white; padding: 20px; font-size: 40px; font-weight: bold; border-radius: 0 0 0 0; box-shadow: 0px 6px 8px rgba(0, 0, 0, 0.2);\">\n",
    "  Asking + Preprocesssing +Analyzing data to answer each question</div>"
   ]
  },
  {
   "cell_type": "markdown",
   "id": "4f0ac71e-816a-4465-bb5e-2d08a7830ace",
   "metadata": {},
   "source": [
    "## Import libraries"
   ]
  },
  {
   "cell_type": "code",
   "execution_count": null,
   "id": "6f7a2e11-9d34-4bc9-b482-2800b8ba1b2c",
   "metadata": {},
   "outputs": [],
   "source": [
    "import numpy as np\n",
    "import pandas as pd\n",
    "import matplotlib.pyplot as plt"
   ]
  },
  {
   "cell_type": "markdown",
   "id": "7c6814fe-4364-44ef-bc43-ad8250aa102f",
   "metadata": {},
   "source": [
    "## Read data from csv file"
   ]
  },
  {
   "cell_type": "code",
   "execution_count": null,
   "id": "c6cb5fb2-1b3c-47d0-98ee-0ef3f8171d63",
   "metadata": {},
   "outputs": [],
   "source": [
    "udemy_df = pd.read_csv(\"./Data/udemy.csv\", parse_dates = ['published_time', 'last_update_date'])\n",
    "udemy_df.head(10)"
   ]
  },
  {
   "cell_type": "markdown",
   "id": "28feb1be-70f8-4891-8cdf-a314baf29635",
   "metadata": {},
   "source": [
    "## Question 3: How udemy develope?"
   ]
  },
  {
   "cell_type": "markdown",
   "id": "8570293a-44e9-4369-bc85-c5c9bcd85988",
   "metadata": {},
   "source": [
    "### Benefits of finding the answer?"
   ]
  },
  {
   "cell_type": "markdown",
   "id": "4dfa8411-4f7f-4896-9260-580df11b54fd",
   "metadata": {},
   "source": [
    "- Insights into Online Education Trends: Understanding how Udemy developed provides insights into the trends and dynamics of the online education industry. This knowledge can be valuable for individuals interested in the field of e-learning.\n",
    "- Entrepreneurial Inspiration: Udemy's success story can serve as inspiration for entrepreneurs looking to create platforms that make education more accessible. It showcases the potential for innovation in the education sector.\n",
    "- Learning and Teaching Opportunities: Individuals interested in learning new skills or sharing their expertise can benefit from Udemy's platform. By understanding its development, users can make informed decisions about participating in the Udemy community.\n",
    "- Impact on Education Accessibility: Udemy has played a role in making education accessible to a global audience. Understanding its development can contribute to discussions about the democratization of education and the role of technology in expanding learning opportunities."
   ]
  },
  {
   "cell_type": "markdown",
   "id": "e0817742-b940-4157-8012-5109a87d699a",
   "metadata": {},
   "source": [
    "### Preprocessing"
   ]
  },
  {
   "cell_type": "markdown",
   "id": "f4bd335a-f9b4-4a90-a9a6-28193b071e09",
   "metadata": {},
   "source": [
    "- To make it easier to evaluate udemy's growth, we evaluate it by year. We create a column year."
   ]
  },
  {
   "cell_type": "code",
   "execution_count": null,
   "id": "c5148cf8-b8fb-46dd-8b33-5c9f41948dc6",
   "metadata": {},
   "outputs": [],
   "source": [
    "udemy_df['year'] = udemy_df['published_time'].dt.year"
   ]
  },
  {
   "cell_type": "markdown",
   "id": "7069de29-4d09-45f6-b08f-c96ca4aa3243",
   "metadata": {},
   "source": [
    "### Analyze data to answer the question?"
   ]
  },
  {
   "cell_type": "markdown",
   "id": "9fe4f423-53a5-4fa8-abd2-662ad1e01a30",
   "metadata": {},
   "source": [
    "First, let's look at how subscriber numbers look over time."
   ]
  },
  {
   "cell_type": "code",
   "execution_count": null,
   "id": "3ef2d78a-b67d-408a-a27d-1f91ab56bd22",
   "metadata": {},
   "outputs": [],
   "source": [
    "num_sub_per_year = udemy_df.groupby('year')['num_subscribers'].sum()\n",
    "display(num_sub_per_year)"
   ]
  },
  {
   "cell_type": "code",
   "execution_count": null,
   "id": "169920ce-00e6-4d0b-8e63-57deacca7b48",
   "metadata": {},
   "outputs": [],
   "source": [
    "plt.figure(figsize=(10, 6))\n",
    "num_sub_per_year.plot(kind='bar', color='skyblue')\n",
    "plt.title('Number of subscribers over year')\n",
    "plt.xlabel('Year')\n",
    "plt.ylabel('Number of subscribers')\n",
    "plt.show()"
   ]
  },
  {
   "cell_type": "markdown",
   "id": "3155bbf2-9a7a-4b93-a454-019991e99bea",
   "metadata": {},
   "source": [
    "- We see that the number of subscribers tends to increase each year. \n",
    "- In 2020, we saw a sudden increase in the number of subscribers, perhaps due to the covid 19 pandemic."
   ]
  },
  {
   "cell_type": "markdown",
   "id": "e8557140-0813-4b5e-97c4-d58e9b861906",
   "metadata": {},
   "source": [
    "Next, the number of courses over time."
   ]
  },
  {
   "cell_type": "code",
   "execution_count": null,
   "id": "b08a4fe3-47ae-4514-bf83-a501e6e80ae5",
   "metadata": {},
   "outputs": [],
   "source": [
    "num_course_per_year = udemy_df.groupby('year')['id'].size()\n",
    "plt.figure(figsize=(10, 6))\n",
    "num_course_per_year.plot(kind='bar', color='skyblue')\n",
    "plt.title('Number of courses over year')\n",
    "plt.xlabel('Year')\n",
    "plt.ylabel('Number of courses')\n",
    "plt.show()"
   ]
  },
  {
   "cell_type": "markdown",
   "id": "fdf88820-71a4-4a7c-ad62-560980eda2a3",
   "metadata": {},
   "source": [
    "The number of instructor over time."
   ]
  },
  {
   "cell_type": "code",
   "execution_count": null,
   "id": "45b9f675-88cd-4459-b5ba-14063b04dfa2",
   "metadata": {},
   "outputs": [],
   "source": [
    "num_instruc_per_year = udemy_df.groupby('year')['instructor_name'].unique()\n",
    "num_instruc_per_year = num_instruc_per_year.apply(lambda x: len(x))\n",
    "plt.figure(figsize=(10, 6))\n",
    "num_instruc_per_year.plot(kind='bar', color='skyblue')\n",
    "plt.title('The number of instructors over year')\n",
    "plt.xlabel('Year')\n",
    "plt.ylabel('Number of instructors')\n",
    "plt.show()"
   ]
  },
  {
   "cell_type": "markdown",
   "id": "213ae943-653e-4ffb-9e90-1cfcd14e88d2",
   "metadata": {},
   "source": [
    "- We can see that after 2020 the number of registrants increased dramatically, in 2021 the number of instructors and the number of courses continues to increase. However, the number of registrations has dropped quite sharply, which tells experienced teachers when to enter the teaching market appropriately.\n",
    "- In general, the number of courses and instructors still tend to increase."
   ]
  },
  {
   "cell_type": "markdown",
   "id": "52da2224-e53b-4cc9-bc94-4ff65196c087",
   "metadata": {},
   "source": [
    "Now, we'll look at another aspect of udemy's growth, looking at the average duration of each course over time."
   ]
  },
  {
   "cell_type": "code",
   "execution_count": null,
   "id": "c2ff6630-fae0-4bb9-aa0f-dbb107be934c",
   "metadata": {},
   "outputs": [],
   "source": [
    "average_duration_per_year = udemy_df.groupby('year')['content_length_min'].mean()\n",
    "plt.figure(figsize=(10, 6))\n",
    "average_duration_per_year.plot()\n",
    "plt.title('The average duration of each course over year')\n",
    "plt.xlabel('Year')\n",
    "plt.ylabel('The average duration')\n",
    "plt.show()"
   ]
  },
  {
   "cell_type": "markdown",
   "id": "506550bc-9ca0-47b1-89bb-618f95a109a0",
   "metadata": {},
   "source": [
    "- We see that the average duration of the course tends to decrease. This helps instructors and teaching centers adjust course times to suit the market."
   ]
  },
  {
   "cell_type": "markdown",
   "id": "200d975d-49e5-4270-8c57-7d8981b969bb",
   "metadata": {},
   "source": [
    "#### Conclusion:\n",
    "- Over the years, Udemy has experienced substantial growth in terms of the number of subscribers, instructors, and courses. The platform's user base has likely expanded significantly as more learners around the world turn to online education.\n",
    "- The growth in the number of instructors and courses on Udemy indicates a diverse range of content available on the platform. This diversity attracts learners with varied interests and learning objectives, contributing to Udemy's popularity.\n",
    "- Udemy's success is likely attributed to its global appeal, with a broad and diverse user base from different countries and cultures. The platform's ability to attract instructors and learners globally demonstrates its effectiveness in providing accessible education.\n",
    "- Udemy's focus on both instructors and learners has contributed to its growth. Instructors are attracted by the opportunity to reach a global audience, while learners benefit from a wide array of courses tailored to various skill levels and interests."
   ]
  },
  {
   "cell_type": "markdown",
   "id": "5411b87d-8177-4725-bb4a-033bf8d32c62",
   "metadata": {},
   "source": [
    "### Question 4: The diversity and scaling of languages?"
   ]
  },
  {
   "cell_type": "markdown",
   "id": "c86fc616-3a0e-44d6-82ef-7a7fa65fd42e",
   "metadata": {},
   "source": [
    "### Benefits of finding the answer?"
   ]
  },
  {
   "cell_type": "markdown",
   "id": "9aa215db-0f22-44f4-a9fc-5a50d166f8b2",
   "metadata": {},
   "source": [
    "- It helps us see the situation about the diversity and proportion of languages ​​used in udemy courses. This can also help us predict which languages ​​will be commonly used in the near future.\n",
    "- Learners tend to engage more actively with content presented in their native language. Offering courses in multiple languages can lead to increased participation, comprehension, and retention of information, as learners feel more comfortable and connected to the material.\n",
    "- Udemy can tap into new markets and demographics by offering courses in different languages. This expansion can lead to increased user base and revenue opportunities as the platform becomes more inclusive and diverse."
   ]
  },
  {
   "cell_type": "markdown",
   "id": "fcf39210-5474-4cf7-b744-ab29b3df5297",
   "metadata": {},
   "source": [
    "### Preprocessing"
   ]
  },
  {
   "cell_type": "markdown",
   "id": "f2f1b78f-91c0-454f-a211-07b0eb057147",
   "metadata": {},
   "source": [
    "We count number of language used in courses"
   ]
  },
  {
   "cell_type": "code",
   "execution_count": null,
   "id": "b3e6ab51-ebec-4c87-8641-354ac8f6e6fa",
   "metadata": {},
   "outputs": [],
   "source": [
    "language_per_year = udemy_df.groupby('year')['language'].unique()\n",
    "language_per_year = language_per_year.apply(lambda x: len(x))"
   ]
  },
  {
   "cell_type": "code",
   "execution_count": null,
   "id": "76265a75-eff6-4e9a-bc72-df929a1b4edd",
   "metadata": {},
   "outputs": [],
   "source": [
    "plt.figure(figsize=(10, 6))\n",
    "language_per_year.plot(kind='bar', color='skyblue')\n",
    "plt.title('Number of languages over year')\n",
    "plt.xlabel('Year')\n",
    "plt.ylabel('Number languages')\n",
    "plt.show()"
   ]
  },
  {
   "cell_type": "markdown",
   "id": "9d6d7eef-5d18-43d0-a3f4-1fcba34911e2",
   "metadata": {},
   "source": [
    "We see languages ​​diversify over time, with more and more types of languages ​​serving learner."
   ]
  },
  {
   "cell_type": "markdown",
   "id": "114c7c29-23f0-4fe7-aa45-424f6e03510f",
   "metadata": {},
   "source": [
    "Next, we look at how much each language is used. Because there are a lot of language, so we take 5 top most popular language, another language we put it type 'Other'"
   ]
  },
  {
   "cell_type": "code",
   "execution_count": null,
   "id": "c76acb21-380f-4b03-a488-0bf2992e54d3",
   "metadata": {},
   "outputs": [],
   "source": [
    "list_language_top = udemy_df.groupby('language')['id'].count().nlargest(5).index\n",
    "list_language_top = pd.Series(list_language_top)\n",
    "language_top = udemy_df[udemy_df['language'].isin(list_language_top)]\n",
    "df_language = language_top.groupby(['year', 'language']).size().unstack(fill_value=0)\n",
    "df_language['Other'] = udemy_df.groupby('year')['language'].size()- df_language.sum(axis=1)\n",
    "df_percentage_language = df_language.div(df_language.sum(axis=1), axis=0) * 100\n",
    "df_percentage_language.plot(kind='area', stacked=True, title='Ratio between languages over years')\n",
    "plt.legend(loc='upper left', bbox_to_anchor=(1, 1))\n",
    "plt.xlabel('Year')\n",
    "fig = plt.gcf()\n",
    "fig.set_size_inches(10, 5)\n",
    "plt.show()"
   ]
  },
  {
   "cell_type": "markdown",
   "id": "ea2f8a96-eb91-46fe-95e4-8e0ceec217e9",
   "metadata": {},
   "source": [
    "- We can see the trend of using languages ​​such as 'Spanish', 'Postuguese', ... is increasing.\n",
    "- English accounts for a large proportion but is no longer as dominant as before."
   ]
  },
  {
   "cell_type": "markdown",
   "id": "1c49464e-81c5-43dc-80cd-c94ef73b414e",
   "metadata": {},
   "source": [
    "#### Conclusion:\n",
    "- Udemy tailor its offerings to local markets by providing courses in languages specific to those regions. This adaptability can help the platform stay relevant and competitive in a globalized education landscape.\n",
    "- Language diversity opens up opportunities for instructors proficient in specific languages to create and deliver content. This can attract skilled instructors from various linguistic backgrounds, enriching the platform with a diverse pool of expertise."
   ]
  }
 ],
 "metadata": {
  "kernelspec": {
   "display_name": "Python 3 (ipykernel)",
   "language": "python",
   "name": "python3"
  },
  "language_info": {
   "codemirror_mode": {
    "name": "ipython",
    "version": 3
   },
   "file_extension": ".py",
   "mimetype": "text/x-python",
   "name": "python",
   "nbconvert_exporter": "python",
   "pygments_lexer": "ipython3",
   "version": "3.10.8"
  }
 },
 "nbformat": 4,
 "nbformat_minor": 5
}
